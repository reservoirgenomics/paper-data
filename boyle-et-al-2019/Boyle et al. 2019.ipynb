{
 "cells": [
  {
   "cell_type": "code",
   "execution_count": 2,
   "metadata": {},
   "outputs": [],
   "source": [
    "%load_ext autoreload\n",
    "%autoreload 2"
   ]
  },
  {
   "cell_type": "code",
   "execution_count": 5,
   "metadata": {},
   "outputs": [],
   "source": [
    "os.environ['RESGEN_USER'] = 'pete'\n",
    "os.environ['RESGEN_PASSWORD'] = 'testtest'"
   ]
  },
  {
   "cell_type": "code",
   "execution_count": 6,
   "metadata": {},
   "outputs": [],
   "source": [
    "import os\n",
    "import resgen as rg\n",
    "\n",
    "rgc = rg.connect(\n",
    "  os.getenv('RESGEN_USER'),\n",
    "  os.getenv('RESGEN_PASSWORD')\n",
    ")"
   ]
  },
  {
   "cell_type": "code",
   "execution_count": 7,
   "metadata": {},
   "outputs": [
    {
     "data": {
      "text/plain": [
       "'pete'"
      ]
     },
     "execution_count": 7,
     "metadata": {},
     "output_type": "execute_result"
    }
   ],
   "source": [
    "rgc.username"
   ]
  },
  {
   "cell_type": "markdown",
   "metadata": {},
   "source": [
    "## Illingworth et al. 2015"
   ]
  },
  {
   "cell_type": "code",
   "execution_count": 11,
   "metadata": {},
   "outputs": [],
   "source": [
    "illingworth = rgc.find_or_create_project('Illingworth et al 2015', group='paper-data')"
   ]
  },
  {
   "cell_type": "markdown",
   "metadata": {},
   "source": [
    "### Recreate Data"
   ]
  },
  {
   "cell_type": "code",
   "execution_count": 12,
   "metadata": {},
   "outputs": [
    {
     "data": {
      "text/plain": [
       "{'Illingworth_et_al_e14_RING1B_ChIP.bw': R2BPsWan: Illingworth_et_al_e14_RING1B_ChIP.bw,\n",
       " 'Illingworth_et_al_2015_H3K27me3_ChIP-seq.bigWig': EFrYq959: Illingworth_et_al_2015_H3K27me3_ChIP-seq.bigWig}"
      ]
     },
     "execution_count": 12,
     "metadata": {},
     "output_type": "execute_result"
    }
   ],
   "source": [
    "iw_dict = dict([\n",
    "    (d.name, d) for d in rgc.find_datasets(project=illingworth)\n",
    "])\n",
    "iw_dict"
   ]
  },
  {
   "cell_type": "markdown",
   "metadata": {},
   "source": [
    "## Boyle et al. 2019"
   ]
  },
  {
   "cell_type": "code",
   "execution_count": 13,
   "metadata": {},
   "outputs": [],
   "source": [
    "project = rgc.find_or_create_project('Boyle et al 2019', group='paper-data')"
   ]
  },
  {
   "cell_type": "markdown",
   "metadata": {},
   "source": [
    "## Recreate data"
   ]
  },
  {
   "cell_type": "code",
   "execution_count": 16,
   "metadata": {},
   "outputs": [],
   "source": [
    "tags = {\n",
    "    \"datatype\": \"matrix\",\n",
    "    \"filetype\": \"cooler\",\n",
    "    \"assembly\": \"mm9\"\n",
    "}\n",
    "\n",
    "ds = project.sync_dataset(\n",
    "    filepath='ftp://ftp.ncbi.nlm.nih.gov/geo/series/GSE134nnn/GSE134826/suppl/GSE134826_I53A.mm9.mapq_30.1000.mcool',\n",
    "    **tags\n",
    ")\n",
    "ds = project.sync_dataset(\n",
    "    filepath='ftp://ftp.ncbi.nlm.nih.gov/geo/series/GSE134nnn/GSE134826/suppl/GSE134826_KO.mm9.mapq_30.1000.mcool',\n",
    "    **tags\n",
    ")\n",
    "ds = project.sync_dataset(\n",
    "    filepath='ftp://ftp.ncbi.nlm.nih.gov/geo/series/GSE134nnn/GSE134826/suppl/GSE134826_WT.mm9.mapq_30.1000.mcool',\n",
    "    **tags\n",
    ")"
   ]
  },
  {
   "cell_type": "code",
   "execution_count": 17,
   "metadata": {},
   "outputs": [
    {
     "data": {
      "text/plain": [
       "{'GSE134826_WT.mm9.mapq_30.1000.mcool': dJOzO_eM: GSE134826_WT.mm9.mapq_30.1000.mcool,\n",
       " 'GSE134826_I53A.mm9.mapq_30.1000.mcool': O3YsqgiN: GSE134826_I53A.mm9.mapq_30.1000.mcool,\n",
       " 'GSE134826_KO.mm9.mapq_30.1000.mcool': MP4esFAf: GSE134826_KO.mm9.mapq_30.1000.mcool}"
      ]
     },
     "execution_count": 17,
     "metadata": {},
     "output_type": "execute_result"
    }
   ],
   "source": [
    "datasets = rgc.find_datasets(project=project)\n",
    "ds_dict = dict([(d.name, d) for d in datasets])\n",
    "ds_dict"
   ]
  },
  {
   "cell_type": "code",
   "execution_count": 18,
   "metadata": {},
   "outputs": [],
   "source": [
    "chromsizes = rgc.find_datasets(\n",
    "  datatype='chromsizes', assembly='mm9'\n",
    ")[0]\n",
    "chrominfo = rgc.get_chrominfo(chromsizes)"
   ]
  },
  {
   "cell_type": "code",
   "execution_count": 19,
   "metadata": {},
   "outputs": [],
   "source": [
    "gene_annotations = rgc.find_datasets(\n",
    "    datatype='gene-annotations', assembly='mm9'\n",
    ")[0]"
   ]
  },
  {
   "cell_type": "code",
   "execution_count": 27,
   "metadata": {
    "scrolled": false
   },
   "outputs": [
    {
     "data": {
      "application/vnd.jupyter.widget-view+json": {
       "model_id": "ae9ed19c12674d79a705b44de0ecd8be",
       "version_major": 2,
       "version_minor": 0
      },
      "text/plain": [
       "HiGlassDisplay(viewconf={'editable': True, 'views': [{'uid': 'V_05pxlWQ72b9BgPAhDO-A', 'tracks': {'top': [{'ty…"
      ]
     },
     "metadata": {},
     "output_type": "display_data"
    }
   ],
   "source": [
    "import higlass\n",
    "from higlass.client import View, Track\n",
    "from higlass.utils import hg_cmap\n",
    "\n",
    "def plot(initialXDomain, height=130):    \n",
    "    heatmap_options = {\n",
    "        \"height\": height,\n",
    "        \"labelPosition\": 'topLeft',\n",
    "        \"labelTextOpacity\": 0.5,\n",
    "        \"maxZoom\": 9,\n",
    "        \"valueScaleMin\": 0.001,\n",
    "        \"valueScaleMax\": 0.1\n",
    "    }\n",
    "\n",
    "    wt_track = ds_dict['GSE134826_WT.mm9.mapq_30.1000.mcool'].hg_track(\n",
    "                    'horizontal-heatmap',\n",
    "                    name=\"Ring1b WT\",\n",
    "                    **{\n",
    "                        **heatmap_options,\n",
    "                        \"colorbarPosition\": \"topRight\"\n",
    "                    }\n",
    "                )\n",
    "    i53a_track = ds_dict['GSE134826_I53A.mm9.mapq_30.1000.mcool'].hg_track(\n",
    "                    'horizontal-heatmap',\n",
    "                    name=\"Ring1b I53A\",\n",
    "                    **heatmap_options\n",
    "                )\n",
    "\n",
    "    ko_track = ds_dict['GSE134826_KO.mm9.mapq_30.1000.mcool'].hg_track(\n",
    "                    'horizontal-heatmap',\n",
    "                    name=\"Ring1b KO\",\n",
    "                    **heatmap_options\n",
    "                )\n",
    "    \n",
    "    iw_h3k27me = iw_dict['Illingworth_et_al_2015_H3K27me3_ChIP-seq.bigWig'].hg_track(\n",
    "        'horizontal-bar',\n",
    "        name='H3K27me3'\n",
    "    )\n",
    "    iw_ring1b = iw_dict['Illingworth_et_al_e14_RING1B_ChIP.bw'].hg_track(\n",
    "        'horizontal-bar',\n",
    "        name='RING1B'\n",
    "    )    \n",
    "    return higlass.display(\n",
    "        [\n",
    "            View([wt_track, i53a_track, ko_track,\n",
    "                  iw_h3k27me, iw_ring1b,\n",
    "                chromsizes.hg_track(),\n",
    "                gene_annotations.hg_track(),\n",
    "            ],\n",
    "            initialXDomain=initialXDomain,\n",
    "            width=6),\n",
    "            View([\n",
    "                Track('simple-svg', position='top', height=height),\n",
    "                (i53a_track / wt_track).change_attributes(\n",
    "                    options={\n",
    "                        **heatmap_options,\n",
    "                        'colorbarPosition': 'topRight',\n",
    "                        'colorRange': hg_cmap('coolwarm'),\n",
    "                        'name': 'I53A / WT',\n",
    "                        'valueScaleMin': 1 / 5,\n",
    "                        'valueScaleMax': 5,\n",
    "                        \"scaleStartPercent\": \"0.00000\",\n",
    "                        \"scaleEndPercent\": \"1\"\n",
    "                    }\n",
    "                  ),\n",
    "                  (ko_track / wt_track).change_attributes(\n",
    "                    options={\n",
    "                        **heatmap_options,\n",
    "                        'colorRange': hg_cmap('coolwarm'),\n",
    "                        'name': 'KO / WT',\n",
    "                        'valueScaleMin': 1 / 5,\n",
    "                        'valueScaleMax': 5,\n",
    "                        \"scaleStartPercent\": \"0.00000\",\n",
    "                        \"scaleEndPercent\": \"1\"\n",
    "                    }\n",
    "                  ),\n",
    "            ],\n",
    "                initialXDomain=initialXDomain, x=6, width=6, y=6)\n",
    "        ]\n",
    "    )\n",
    "display,server,viewconf = plot(\n",
    "    [\n",
    "        chrominfo.to_abs('chr6', 51.8e6),\n",
    "        chrominfo.to_abs('chr6', 52.55e6)\n",
    "    ]\n",
    ")\n",
    "display"
   ]
  },
  {
   "cell_type": "code",
   "execution_count": 28,
   "metadata": {},
   "outputs": [],
   "source": [
    "project.sync_viewconf(viewconf.to_dict(), 'Figure 3A')"
   ]
  },
  {
   "cell_type": "code",
   "execution_count": 22,
   "metadata": {},
   "outputs": [
    {
     "data": {
      "application/vnd.jupyter.widget-view+json": {
       "model_id": "c9705f4c6b45440292ffc4eb3ff50133",
       "version_major": 2,
       "version_minor": 0
      },
      "text/plain": [
       "HiGlassDisplay(viewconf={'editable': True, 'views': [{'uid': 'X4uMbNZITQ6GXuL1oZ_tjQ', 'tracks': {'top': [{'ty…"
      ]
     },
     "metadata": {},
     "output_type": "display_data"
    }
   ],
   "source": [
    "display,server,viewconf = plot(\n",
    "    [\n",
    "        chrominfo.to_abs('chr11', 95.75e6),\n",
    "        chrominfo.to_abs('chr11', 96.5e6)\n",
    "    ]\n",
    ")\n",
    "display"
   ]
  },
  {
   "cell_type": "code",
   "execution_count": 31,
   "metadata": {},
   "outputs": [],
   "source": [
    "project.sync_viewconf(viewconf.to_dict(), 'Figure 3B')"
   ]
  },
  {
   "cell_type": "code",
   "execution_count": 32,
   "metadata": {},
   "outputs": [
    {
     "data": {
      "application/vnd.jupyter.widget-view+json": {
       "model_id": "e44172c93e7d42c68322cf43e5a77e6a",
       "version_major": 2,
       "version_minor": 0
      },
      "text/plain": [
       "HiGlassDisplay(viewconf={'editable': True, 'views': [{'uid': 'QzhqVSOlSBudNVdGiMPwww', 'tracks': {'top': [{'ty…"
      ]
     },
     "metadata": {},
     "output_type": "display_data"
    }
   ],
   "source": [
    "display,server,viewconf = plot(\n",
    "    [\n",
    "        chrominfo.to_abs('chr11', 118.86e6),\n",
    "        chrominfo.to_abs('chr11', 119.0e6)\n",
    "    ]\n",
    ")\n",
    "display"
   ]
  },
  {
   "cell_type": "code",
   "execution_count": 33,
   "metadata": {},
   "outputs": [],
   "source": [
    "project.sync_viewconf(viewconf.to_dict(), 'Figure 3C')"
   ]
  },
  {
   "cell_type": "code",
   "execution_count": 34,
   "metadata": {},
   "outputs": [
    {
     "data": {
      "application/vnd.jupyter.widget-view+json": {
       "model_id": "1f5d45dc324349e583de787f6b077aca",
       "version_major": 2,
       "version_minor": 0
      },
      "text/plain": [
       "HiGlassDisplay(viewconf={'editable': True, 'views': [{'uid': 'ZB7t-_N2R6SOil13ujewrg', 'tracks': {'top': [{'ty…"
      ]
     },
     "metadata": {},
     "output_type": "display_data"
    }
   ],
   "source": [
    "display,server,viewconf = plot(\n",
    "    [\n",
    "        chrominfo.to_abs('chr2', 17.7e6),\n",
    "        chrominfo.to_abs('chr2', 18.8e6)\n",
    "    ],\n",
    "    height=150\n",
    ")\n",
    "display"
   ]
  },
  {
   "cell_type": "code",
   "execution_count": 35,
   "metadata": {},
   "outputs": [],
   "source": [
    "project.sync_viewconf(viewconf.to_dict(), 'Figure 4A')"
   ]
  }
 ],
 "metadata": {
  "kernelspec": {
   "display_name": "Python 3",
   "language": "python",
   "name": "python3"
  },
  "language_info": {
   "codemirror_mode": {
    "name": "ipython",
    "version": 3
   },
   "file_extension": ".py",
   "mimetype": "text/x-python",
   "name": "python",
   "nbconvert_exporter": "python",
   "pygments_lexer": "ipython3",
   "version": "3.6.2"
  }
 },
 "nbformat": 4,
 "nbformat_minor": 2
}
