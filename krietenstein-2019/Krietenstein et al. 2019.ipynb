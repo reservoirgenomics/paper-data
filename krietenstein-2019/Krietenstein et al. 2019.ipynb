{
 "cells": [
  {
   "cell_type": "code",
   "execution_count": 1,
   "metadata": {},
   "outputs": [],
   "source": [
    "%load_ext autoreload\n",
    "%autoreload 2"
   ]
  },
  {
   "cell_type": "code",
   "execution_count": 4,
   "metadata": {},
   "outputs": [],
   "source": [
    "import resgen as rg\n",
    "import os\n",
    "\n",
    "rgc = rg.connect(os.getenv(\"RESGEN_USER\"), os.getenv(\"RESGEN_PASSWORD\"))"
   ]
  },
  {
   "cell_type": "code",
   "execution_count": 6,
   "metadata": {},
   "outputs": [],
   "source": [
    "project = rgc.find_or_create_project('Krietenstein et al. 2019', group='paper-data')"
   ]
  },
  {
   "cell_type": "code",
   "execution_count": 18,
   "metadata": {},
   "outputs": [
    {
     "data": {
      "text/plain": [
       "E8aSzhwA: H1ESC"
      ]
     },
     "execution_count": 18,
     "metadata": {},
     "output_type": "execute_result"
    }
   ],
   "source": [
    "project.sync_dataset(\n",
    "    'http://proteome.mit.edu/~nezar/data/krietenstein2019/U54-H1ESC4DN-FA-DSG-MNase__hg38.mapq30.shifted.100.mcool',\n",
    "    name='H1ESC',\n",
    "    datatype='matrix', filetype='cooler'\n",
    ")"
   ]
  },
  {
   "cell_type": "code",
   "execution_count": 19,
   "metadata": {},
   "outputs": [
    {
     "data": {
      "text/plain": [
       "E3W9nJOh: HFFc6"
      ]
     },
     "execution_count": 19,
     "metadata": {},
     "output_type": "execute_result"
    }
   ],
   "source": [
    "project.sync_dataset(\n",
    "    'http://proteome.mit.edu/~nezar/data/krietenstein2019/U54-HFFc64DN-FA-DSG-MNase__hg38.mapq30.shifted.100.mcool',\n",
    "    name='HFFc6',\n",
    "    datatype='matrix',\n",
    "    filetype='cooler'\n",
    ")"
   ]
  },
  {
   "cell_type": "code",
   "execution_count": 20,
   "metadata": {},
   "outputs": [
    {
     "data": {
      "text/plain": [
       "{'H1ESC': E8aSzhwA: H1ESC, 'HFFc6': E3W9nJOh: HFFc6}"
      ]
     },
     "execution_count": 20,
     "metadata": {},
     "output_type": "execute_result"
    }
   ],
   "source": [
    "ds_dict = dict([(d.name,d) for d in project.list_datasets()])\n",
    "ds_dict"
   ]
  },
  {
   "cell_type": "code",
   "execution_count": 25,
   "metadata": {},
   "outputs": [],
   "source": [
    "chromsizes = rgc.find_datasets(\n",
    "  datatype='chromsizes', assembly='hg38'\n",
    ")[0]\n",
    "chrominfo = rgc.get_chrominfo(chromsizes)\n",
    "\n",
    "gene_annotations = rgc.find_datasets(\n",
    "    datatype='gene-annotations', assembly='hg38'\n",
    ")[0]"
   ]
  },
  {
   "cell_type": "markdown",
   "metadata": {},
   "source": [
    "## Figure 1"
   ]
  },
  {
   "cell_type": "code",
   "execution_count": 65,
   "metadata": {},
   "outputs": [
    {
     "data": {
      "application/vnd.jupyter.widget-view+json": {
       "model_id": "9bc1cd1a89fc492eb215cbadfb71267b",
       "version_major": 2,
       "version_minor": 0
      },
      "text/plain": [
       "HiGlassDisplay(viewconf={'editable': True, 'views': [{'uid': 'bFG75xPJSvufejg_d4qGAA', 'tracks': {'top': [], '…"
      ]
     },
     "metadata": {},
     "output_type": "display_data"
    }
   ],
   "source": [
    "from higlass.client import Track, View, ViewportProjection\n",
    "import higlass\n",
    "\n",
    "def create_figure1_views(\n",
    "    heatmap_ds,\n",
    "    locations\n",
    "):\n",
    "    views = []\n",
    "    proj_v = None\n",
    "    view_width = 12 // len(locations)\n",
    "    \n",
    "    for i,location in enumerate(locations):\n",
    "        v = View([\n",
    "                heatmap_ds.hg_track(height=100),\n",
    "                chromsizes.hg_track(track_type='vertical-chromosome-labels',\n",
    "                                    position='left'),\n",
    "            ], width=view_width, x=i*view_width,\n",
    "            initialXDomain=chrominfo.to_abs_range(*location),\n",
    "        )\n",
    "        views += [v]\n",
    "    \n",
    "    return views\n",
    "\n",
    "views = create_figure1_views(\n",
    "    ds_dict['HFFc6'],\n",
    "    [\n",
    "        ('chr3', 0, 55e6),\n",
    "        ('chr5', 0, 22e6),\n",
    "        ('chr5', 1, 6e6),\n",
    "        ('chr5', 3, 5e6),\n",
    "    ]\n",
    ")\n",
    "\n",
    "(d,s,v) = higlass.display(views)\n",
    "d"
   ]
  },
  {
   "cell_type": "code",
   "execution_count": null,
   "metadata": {},
   "outputs": [],
   "source": []
  },
  {
   "cell_type": "markdown",
   "metadata": {},
   "source": [
    "## Figure 3"
   ]
  },
  {
   "cell_type": "code",
   "execution_count": 55,
   "metadata": {},
   "outputs": [
    {
     "data": {
      "application/vnd.jupyter.widget-view+json": {
       "model_id": "214f91ef137948da96d03fbb38002292",
       "version_major": 2,
       "version_minor": 0
      },
      "text/plain": [
       "HiGlassDisplay(viewconf={'editable': True, 'views': [{'uid': 'a7voIVHKTvi7S94LMHQCLQ', 'tracks': {'top': [], '…"
      ]
     },
     "metadata": {},
     "output_type": "display_data"
    }
   ],
   "source": [
    "from higlass.client import Track, View, ViewportProjection\n",
    "import higlass\n",
    "\n",
    "v3 = View([\n",
    "        ds_dict['H1ESC'].hg_track(height=150),\n",
    "        chromsizes.hg_track(track_type='vertical-chromosome-labels',\n",
    "                            position='left'),\n",
    "    ], width=4, x=8,\n",
    "    initialXDomain=chrominfo.to_abs_range('chr5', 62.38e6, 62.44e6),\n",
    ")\n",
    "proj_v3 = ViewportProjection(v3)\n",
    "\n",
    "v2 = View([\n",
    "        ds_dict['H1ESC'].hg_track(height=150) + proj_v3,\n",
    "        chromsizes.hg_track(track_type='vertical-chromosome-labels',\n",
    "                            position='left')\n",
    "    ], width=4, x=4,\n",
    "    initialXDomain=chrominfo.to_abs_range('chr5', 62.25e6, 62.45e6),\n",
    ")\n",
    "proj_v2 = ViewportProjection(v2)\n",
    "\n",
    "v1 = View([\n",
    "        ds_dict['H1ESC'].hg_track(height=150) + proj_v2,\n",
    "        chromsizes.hg_track(track_type='vertical-chromosome-labels',\n",
    "                            position='left')\n",
    "    ], width=4, x=0,\n",
    "    initialXDomain=chrominfo.to_abs_range('chr5', 62.25e6, 62.8e6),\n",
    ")\n",
    "\n",
    "(d,s,v) = higlass.display([v1, v2, v3])\n",
    "d"
   ]
  },
  {
   "cell_type": "code",
   "execution_count": 45,
   "metadata": {},
   "outputs": [],
   "source": [
    "project.sync_viewconf(v, \"Figure 3\")"
   ]
  },
  {
   "cell_type": "code",
   "execution_count": 53,
   "metadata": {},
   "outputs": [
    {
     "data": {
      "application/vnd.jupyter.widget-view+json": {
       "model_id": "690555aafed64961ba56efa74dd7f7e1",
       "version_major": 2,
       "version_minor": 0
      },
      "text/plain": [
       "HiGlassDisplay(viewconf={'editable': True, 'views': [{'uid': 'ZuRtfibZQGmPcEMNtuMobA', 'tracks': {'top': [{'ty…"
      ]
     },
     "metadata": {},
     "output_type": "display_data"
    }
   ],
   "source": [
    "from higlass.client import Track, View\n",
    "import higlass\n",
    "\n",
    "ds = rgc.find_datasets('ENCFF696JDC')[0]\n",
    "\n",
    "(d,s,v) = higlass.display([View([ds.hg_track()], initialXDomain=[0,1e9])])\n",
    "d"
   ]
  },
  {
   "cell_type": "code",
   "execution_count": null,
   "metadata": {},
   "outputs": [],
   "source": []
  }
 ],
 "metadata": {
  "kernelspec": {
   "display_name": "Python 3",
   "language": "python",
   "name": "python3"
  },
  "language_info": {
   "codemirror_mode": {
    "name": "ipython",
    "version": 3
   },
   "file_extension": ".py",
   "mimetype": "text/x-python",
   "name": "python",
   "nbconvert_exporter": "python",
   "pygments_lexer": "ipython3",
   "version": "3.6.2"
  }
 },
 "nbformat": 4,
 "nbformat_minor": 2
}
