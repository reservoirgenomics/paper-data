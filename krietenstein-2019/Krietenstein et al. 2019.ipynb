{
 "cells": [
  {
   "cell_type": "code",
   "execution_count": 1,
   "metadata": {},
   "outputs": [],
   "source": [
    "%load_ext autoreload\n",
    "%autoreload 2\n",
    "%load_ext dotenv\n",
    "%dotenv"
   ]
  },
  {
   "cell_type": "code",
   "execution_count": 3,
   "metadata": {},
   "outputs": [],
   "source": [
    "import resgen as rg\n",
    "import os\n",
    "\n",
    "rgc = rg.connect(os.getenv(\"RESGEN_USERNAME\"), os.getenv(\"RESGEN_PASSWORD\"))"
   ]
  },
  {
   "cell_type": "code",
   "execution_count": 4,
   "metadata": {},
   "outputs": [
    {
     "name": "stdout",
     "output_type": "stream",
     "text": [
      "self.host: https://resgen.io\n"
     ]
    }
   ],
   "source": [
    "project = rgc.find_or_create_project('Krietenstein et al. 2019', group='paper-data')"
   ]
  },
  {
   "cell_type": "code",
   "execution_count": 5,
   "metadata": {},
   "outputs": [
    {
     "data": {
      "text/plain": [
       "E8aSzhwA: H1ESC"
      ]
     },
     "execution_count": 5,
     "metadata": {},
     "output_type": "execute_result"
    }
   ],
   "source": [
    "project.sync_dataset(\n",
    "    'http://proteome.mit.edu/~nezar/data/krietenstein2019/U54-H1ESC4DN-FA-DSG-MNase__hg38.mapq30.shifted.100.mcool',\n",
    "    name='H1ESC',\n",
    "    datatype='matrix', filetype='cooler'\n",
    ")"
   ]
  },
  {
   "cell_type": "code",
   "execution_count": 6,
   "metadata": {},
   "outputs": [
    {
     "data": {
      "text/plain": [
       "E3W9nJOh: HFFc6"
      ]
     },
     "execution_count": 6,
     "metadata": {},
     "output_type": "execute_result"
    }
   ],
   "source": [
    "project.sync_dataset(\n",
    "    'http://proteome.mit.edu/~nezar/data/krietenstein2019/U54-HFFc64DN-FA-DSG-MNase__hg38.mapq30.shifted.100.mcool',\n",
    "    name='HFFc6',\n",
    "    datatype='matrix',\n",
    "    filetype='cooler'\n",
    ")"
   ]
  },
  {
   "cell_type": "code",
   "execution_count": 7,
   "metadata": {},
   "outputs": [
    {
     "data": {
      "text/plain": [
       "{'H1ESC': E8aSzhwA: H1ESC, 'HFFc6': E3W9nJOh: HFFc6}"
      ]
     },
     "execution_count": 7,
     "metadata": {},
     "output_type": "execute_result"
    }
   ],
   "source": [
    "ds_dict = dict([(d.name,d) for d in project.list_datasets()])\n",
    "ds_dict"
   ]
  },
  {
   "cell_type": "code",
   "execution_count": 8,
   "metadata": {},
   "outputs": [],
   "source": [
    "chromsizes = rgc.find_datasets(\n",
    "  datatype='chromsizes', assembly='hg38'\n",
    ")[0]\n",
    "chrominfo = rgc.get_chrominfo(chromsizes)\n",
    "\n",
    "gene_annotations = rgc.find_datasets(\n",
    "    datatype='gene-annotations', assembly='hg38'\n",
    ")[0]"
   ]
  },
  {
   "cell_type": "markdown",
   "metadata": {},
   "source": [
    "## Figure 1"
   ]
  },
  {
   "cell_type": "code",
   "execution_count": 9,
   "metadata": {},
   "outputs": [
    {
     "data": {
      "application/vnd.jupyter.widget-view+json": {
       "model_id": "fa5f4b34f5bf4f99b371f4e05fea6775",
       "version_major": 2,
       "version_minor": 0
      },
      "text/plain": [
       "HiGlassDisplay(viewconf={'editable': True, 'views': [{'uid': 'ArPF6a_USaWfhiZ2K-Jfcg', 'tracks': {'top': [], '…"
      ]
     },
     "metadata": {},
     "output_type": "display_data"
    }
   ],
   "source": [
    "from higlass.client import Track, View, ViewportProjection\n",
    "import higlass\n",
    "\n",
    "def create_figure1_views(\n",
    "    heatmap_ds,\n",
    "    locations\n",
    "):\n",
    "    views = []\n",
    "    proj_v = None\n",
    "    view_width = 12 // len(locations)\n",
    "    \n",
    "    for i,location in enumerate(locations):\n",
    "        v = View([\n",
    "                heatmap_ds.hg_track(height=100),\n",
    "                chromsizes.hg_track(track_type='vertical-chromosome-labels',\n",
    "                                    position='left'),\n",
    "            ], width=view_width, x=i*view_width,\n",
    "            initialXDomain=chrominfo.to_abs_range(*location),\n",
    "        )\n",
    "        views += [v]\n",
    "    \n",
    "    return views\n",
    "\n",
    "views = create_figure1_views(\n",
    "    ds_dict['HFFc6'],\n",
    "    [\n",
    "        ('chr3', 0, 55e6),\n",
    "        ('chr5', 0, 22e6),\n",
    "        ('chr5', 1, 6e6),\n",
    "        ('chr5', 3, 5e6),\n",
    "    ]\n",
    ")\n",
    "\n",
    "(d,s,v) = higlass.display(views)\n",
    "d"
   ]
  },
  {
   "cell_type": "markdown",
   "metadata": {},
   "source": [
    "## Figure 3"
   ]
  },
  {
   "cell_type": "code",
   "execution_count": 10,
   "metadata": {},
   "outputs": [
    {
     "data": {
      "application/vnd.jupyter.widget-view+json": {
       "model_id": "c71ecb59cce246918c74cfac62598fe6",
       "version_major": 2,
       "version_minor": 0
      },
      "text/plain": [
       "HiGlassDisplay(viewconf={'editable': True, 'views': [{'uid': 'G1eHTWiXRiG_j4vnC0OBwA', 'tracks': {'top': [], '…"
      ]
     },
     "metadata": {},
     "output_type": "display_data"
    }
   ],
   "source": [
    "from higlass.client import Track, View, ViewportProjection\n",
    "import higlass\n",
    "\n",
    "v3 = View([\n",
    "        ds_dict['H1ESC'].hg_track(height=150),\n",
    "        chromsizes.hg_track(track_type='vertical-chromosome-labels',\n",
    "                            position='left'),\n",
    "    ], width=4, x=8,\n",
    "    initialXDomain=chrominfo.to_abs_range('chr5', 62.38e6, 62.44e6),\n",
    ")\n",
    "proj_v3 = ViewportProjection(v3)\n",
    "\n",
    "v2 = View([\n",
    "        ds_dict['H1ESC'].hg_track(height=150) + proj_v3,\n",
    "        chromsizes.hg_track(track_type='vertical-chromosome-labels',\n",
    "                            position='left')\n",
    "    ], width=4, x=4,\n",
    "    initialXDomain=chrominfo.to_abs_range('chr5', 62.25e6, 62.45e6),\n",
    ")\n",
    "proj_v2 = ViewportProjection(v2)\n",
    "\n",
    "v1 = View([\n",
    "        ds_dict['H1ESC'].hg_track(height=150) + proj_v2,\n",
    "        chromsizes.hg_track(track_type='vertical-chromosome-labels',\n",
    "                            position='left')\n",
    "    ], width=4, x=0,\n",
    "    initialXDomain=chrominfo.to_abs_range('chr5', 62.25e6, 62.8e6),\n",
    ")\n",
    "\n",
    "(d,s,v) = higlass.display([v1, v2, v3])\n",
    "d"
   ]
  },
  {
   "cell_type": "code",
   "execution_count": 45,
   "metadata": {},
   "outputs": [],
   "source": [
    "project.sync_viewconf(v, \"Figure 3\")"
   ]
  },
  {
   "cell_type": "code",
   "execution_count": 12,
   "metadata": {},
   "outputs": [
    {
     "data": {
      "text/plain": [
       "{'H1ESC': E8aSzhwA: H1ESC, 'HFFc6': E3W9nJOh: HFFc6}"
      ]
     },
     "execution_count": 12,
     "metadata": {},
     "output_type": "execute_result"
    }
   ],
   "source": [
    "ds_dict"
   ]
  },
  {
   "cell_type": "code",
   "execution_count": 24,
   "metadata": {},
   "outputs": [
    {
     "data": {
      "application/vnd.jupyter.widget-view+json": {
       "model_id": "a7ccf6f0fe674cebb16bb61e5b17fe9d",
       "version_major": 2,
       "version_minor": 0
      },
      "text/plain": [
       "HiGlassDisplay(viewconf={'editable': True, 'views': [{'uid': 'CiobXa83TRKaoi4gAfMhug', 'tracks': {'top': [], '…"
      ]
     },
     "metadata": {},
     "output_type": "display_data"
    }
   ],
   "source": [
    "from higlass.client import Track, View\n",
    "import higlass\n",
    "from higlass.utils import hg_cmap\n",
    "\n",
    "track_options={\n",
    "    \"height\": 200,\n",
    "}\n",
    "t1 = ds_dict['H1ESC'].hg_track(**track_options)\n",
    "t2 = ds_dict['HFFc6'].hg_track(**track_options)\n",
    "t3 = (t2 / t1).change_attributes(\n",
    "    options={\n",
    "        'colorRange': hg_cmap('coolwarm'),\n",
    "        'valueScaleMin': 0.1,\n",
    "        'valueScaleMax': 10\n",
    "    })\n",
    "\n",
    "initialXDomain = [38e6,39e6]\n",
    "(d,s,v) = higlass.display([\n",
    "    View([t1], initialXDomain=initialXDomain,x=0,width=4),\n",
    "    View([t3], initialXDomain=initialXDomain,x=4,width=4),\n",
    "    View([t2], initialXDomain=initialXDomain,x=8,width=4)\n",
    "])\n",
    "d"
   ]
  },
  {
   "cell_type": "markdown",
   "metadata": {},
   "source": [
    "## Example"
   ]
  },
  {
   "cell_type": "code",
   "execution_count": null,
   "metadata": {},
   "outputs": [],
   "source": []
  }
 ],
 "metadata": {
  "kernelspec": {
   "display_name": "Python 3",
   "language": "python",
   "name": "python3"
  },
  "language_info": {
   "codemirror_mode": {
    "name": "ipython",
    "version": 3
   },
   "file_extension": ".py",
   "mimetype": "text/x-python",
   "name": "python",
   "nbconvert_exporter": "python",
   "pygments_lexer": "ipython3",
   "version": "3.7.6"
  }
 },
 "nbformat": 4,
 "nbformat_minor": 2
}
