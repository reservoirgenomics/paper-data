{
 "cells": [
  {
   "cell_type": "code",
   "execution_count": 1,
   "metadata": {},
   "outputs": [],
   "source": [
    "%load_ext autoreload\n",
    "%autoreload 2"
   ]
  },
  {
   "cell_type": "code",
   "execution_count": 4,
   "metadata": {},
   "outputs": [],
   "source": [
    "import resgen as rg\n",
    "import os\n",
    "\n",
    "rgc = rg.connect(os.getenv(\"RESGEN_USER\"), os.getenv(\"RESGEN_PASSWORD\"))"
   ]
  },
  {
   "cell_type": "code",
   "execution_count": 6,
   "metadata": {},
   "outputs": [],
   "source": [
    "project = rgc.find_or_create_project('Krietenstein et al. 2019', group='paper-data')"
   ]
  },
  {
   "cell_type": "code",
   "execution_count": 18,
   "metadata": {},
   "outputs": [
    {
     "data": {
      "text/plain": [
       "E8aSzhwA: H1ESC"
      ]
     },
     "execution_count": 18,
     "metadata": {},
     "output_type": "execute_result"
    }
   ],
   "source": [
    "project.sync_dataset(\n",
    "    'http://proteome.mit.edu/~nezar/data/krietenstein2019/U54-H1ESC4DN-FA-DSG-MNase__hg38.mapq30.shifted.100.mcool',\n",
    "    name='H1ESC',\n",
    "    datatype='matrix', filetype='cooler'\n",
    ")"
   ]
  },
  {
   "cell_type": "code",
   "execution_count": 19,
   "metadata": {},
   "outputs": [
    {
     "data": {
      "text/plain": [
       "E3W9nJOh: HFFc6"
      ]
     },
     "execution_count": 19,
     "metadata": {},
     "output_type": "execute_result"
    }
   ],
   "source": [
    "project.sync_dataset(\n",
    "    'http://proteome.mit.edu/~nezar/data/krietenstein2019/U54-HFFc64DN-FA-DSG-MNase__hg38.mapq30.shifted.100.mcool',\n",
    "    name='HFFc6',\n",
    "    datatype='matrix',\n",
    "    filetype='cooler'\n",
    ")"
   ]
  },
  {
   "cell_type": "code",
   "execution_count": 20,
   "metadata": {},
   "outputs": [
    {
     "data": {
      "text/plain": [
       "{'H1ESC': E8aSzhwA: H1ESC, 'HFFc6': E3W9nJOh: HFFc6}"
      ]
     },
     "execution_count": 20,
     "metadata": {},
     "output_type": "execute_result"
    }
   ],
   "source": [
    "ds_dict = dict([(d.name,d) for d in project.list_datasets()])\n",
    "ds_dict"
   ]
  },
  {
   "cell_type": "code",
   "execution_count": 25,
   "metadata": {},
   "outputs": [],
   "source": [
    "chromsizes = rgc.find_datasets(\n",
    "  datatype='chromsizes', assembly='hg38'\n",
    ")[0]\n",
    "chrominfo = rgc.get_chrominfo(chromsizes)\n",
    "\n",
    "gene_annotations = rgc.find_datasets(\n",
    "    datatype='gene-annotations', assembly='hg38'\n",
    ")[0]"
   ]
  },
  {
   "cell_type": "markdown",
   "metadata": {},
   "source": [
    "## Figure 3"
   ]
  },
  {
   "cell_type": "code",
   "execution_count": 43,
   "metadata": {},
   "outputs": [
    {
     "data": {
      "application/vnd.jupyter.widget-view+json": {
       "model_id": "1553476ad79848fdadbf0d4409f276af",
       "version_major": 2,
       "version_minor": 0
      },
      "text/plain": [
       "HiGlassDisplay(viewconf={'editable': True, 'views': [{'uid': 'UpZbxl0GT72MelFenna1VQ', 'tracks': {'top': [], '…"
      ]
     },
     "metadata": {},
     "output_type": "display_data"
    }
   ],
   "source": [
    "from higlass.client import Track, View, ViewportProjection\n",
    "import higlass\n",
    "\n",
    "v3 = View([\n",
    "        ds_dict['H1ESC'].hg_track(height=150),\n",
    "        chromsizes.hg_track(track_type='vertical-chromosome-labels',\n",
    "                            position='left')\n",
    "    ], width=4, x=8,\n",
    "    initialXDomain=chrominfo.to_abs_range('chr5', 62.38e6, 62.44e6),\n",
    ")\n",
    "proj_v3 = ViewportProjection(v3)\n",
    "\n",
    "v2 = View([\n",
    "        ds_dict['H1ESC'].hg_track(height=150) + proj_v3,\n",
    "        chromsizes.hg_track(track_type='vertical-chromosome-labels',\n",
    "                            position='left')\n",
    "    ], width=4, x=4,\n",
    "    initialXDomain=chrominfo.to_abs_range('chr5', 62.25e6, 62.45e6),\n",
    ")\n",
    "proj_v2 = ViewportProjection(v2)\n",
    "\n",
    "v1 = View([\n",
    "        ds_dict['H1ESC'].hg_track(height=150) + proj_v2,\n",
    "        chromsizes.hg_track(track_type='vertical-chromosome-labels',\n",
    "                            position='left')\n",
    "    ], width=4, x=0,\n",
    "    initialXDomain=chrominfo.to_abs_range('chr5', 62.25e6, 62.8e6),\n",
    ")\n",
    "\n",
    "(d,s,v) = higlass.display([v1, v2, v3])\n",
    "d"
   ]
  },
  {
   "cell_type": "code",
   "execution_count": 45,
   "metadata": {},
   "outputs": [],
   "source": [
    "project.sync_viewconf(v, \"Figure 3\")"
   ]
  },
  {
   "cell_type": "code",
   "execution_count": null,
   "metadata": {},
   "outputs": [],
   "source": []
  }
 ],
 "metadata": {
  "kernelspec": {
   "display_name": "Python 3",
   "language": "python",
   "name": "python3"
  },
  "language_info": {
   "codemirror_mode": {
    "name": "ipython",
    "version": 3
   },
   "file_extension": ".py",
   "mimetype": "text/x-python",
   "name": "python",
   "nbconvert_exporter": "python",
   "pygments_lexer": "ipython3",
   "version": "3.6.2"
  }
 },
 "nbformat": 4,
 "nbformat_minor": 2
}
