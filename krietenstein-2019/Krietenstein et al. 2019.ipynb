{
 "cells": [
  {
   "cell_type": "code",
   "execution_count": 1,
   "metadata": {},
   "outputs": [],
   "source": [
    "%load_ext autoreload\n",
    "%autoreload 2"
   ]
  },
  {
   "cell_type": "code",
   "execution_count": 4,
   "metadata": {},
   "outputs": [],
   "source": [
    "import resgen as rg\n",
    "import os\n",
    "\n",
    "rgc = rg.connect(os.getenv(\"RESGEN_USER\"), os.getenv(\"RESGEN_PASSWORD\"))"
   ]
  },
  {
   "cell_type": "code",
   "execution_count": 6,
   "metadata": {},
   "outputs": [],
   "source": [
    "project = rgc.find_or_create_project('Krietenstein et al. 2019', group='paper-data')"
   ]
  },
  {
   "cell_type": "code",
   "execution_count": 7,
   "metadata": {},
   "outputs": [
    {
     "name": "stdout",
     "output_type": "stream",
     "text": [
      " 100.00% Complete"
     ]
    },
    {
     "data": {
      "text/plain": [
       "E8aSzhwA: U54-H1ESC4DN-FA-DSG-MNase__hg38.mapq30.shifted.100.mcool"
      ]
     },
     "execution_count": 7,
     "metadata": {},
     "output_type": "execute_result"
    }
   ],
   "source": [
    "project.sync_dataset('http://proteome.mit.edu/~nezar/data/krietenstein2019/U54-H1ESC4DN-FA-DSG-MNase__hg38.mapq30.shifted.100.mcool')"
   ]
  },
  {
   "cell_type": "code",
   "execution_count": 8,
   "metadata": {},
   "outputs": [
    {
     "name": "stdout",
     "output_type": "stream",
     "text": [
      " 100.00% Complete"
     ]
    },
    {
     "data": {
      "text/plain": [
       "E3W9nJOh: U54-HFFc64DN-FA-DSG-MNase__hg38.mapq30.shifted.100.mcool"
      ]
     },
     "execution_count": 8,
     "metadata": {},
     "output_type": "execute_result"
    }
   ],
   "source": [
    "project.sync_dataset('http://proteome.mit.edu/~nezar/data/krietenstein2019/U54-HFFc64DN-FA-DSG-MNase__hg38.mapq30.shifted.100.mcool')"
   ]
  },
  {
   "cell_type": "code",
   "execution_count": null,
   "metadata": {},
   "outputs": [],
   "source": [
    "ds_dict = dict([d.name,d for d inproject.list_datasets()"
   ]
  }
 ],
 "metadata": {
  "kernelspec": {
   "display_name": "Python 3",
   "language": "python",
   "name": "python3"
  },
  "language_info": {
   "codemirror_mode": {
    "name": "ipython",
    "version": 3
   },
   "file_extension": ".py",
   "mimetype": "text/x-python",
   "name": "python",
   "nbconvert_exporter": "python",
   "pygments_lexer": "ipython3",
   "version": "3.6.2"
  }
 },
 "nbformat": 4,
 "nbformat_minor": 2
}
