{
 "cells": [
  {
   "cell_type": "code",
   "execution_count": 68,
   "metadata": {},
   "outputs": [
    {
     "name": "stdout",
     "output_type": "stream",
     "text": [
      "The autoreload extension is already loaded. To reload it, use:\n",
      "  %reload_ext autoreload\n"
     ]
    }
   ],
   "source": [
    "%load_ext autoreload\n",
    "%autoreload 2"
   ]
  },
  {
   "cell_type": "code",
   "execution_count": 92,
   "metadata": {},
   "outputs": [],
   "source": [
    "import higlass as hg"
   ]
  },
  {
   "cell_type": "code",
   "execution_count": 69,
   "metadata": {},
   "outputs": [],
   "source": [
    "import os\n",
    "import resgen as rg\n",
    "\n",
    "rgc = rg.connect(os.environ['RESGEN_USER'], os.environ['RESGEN_PASSWORD'])"
   ]
  },
  {
   "cell_type": "code",
   "execution_count": 70,
   "metadata": {},
   "outputs": [],
   "source": [
    "project = rgc.find_or_create_project('Nott et al. 2019')"
   ]
  },
  {
   "cell_type": "code",
   "execution_count": 73,
   "metadata": {},
   "outputs": [
    {
     "name": "stdout",
     "output_type": "stream",
     "text": [
      " 100.00% Complete"
     ]
    }
   ],
   "source": [
    "import requests\n",
    "\n",
    "def parse_ucsc(hub_string):    \n",
    "    things = [\n",
    "        dict([d.split() for d in hub_section.split('\\n')])\n",
    "        for hub_section in re.split('\\n\\n+', hub_string.strip())\n",
    "    ]\n",
    "    \n",
    "    return things\n",
    "\n",
    "def sync_track_hub(base_url):\n",
    "    hub_url = f\"{base_url}/hub.txt\"\n",
    "\n",
    "    ret = requests.get(hub_url)\n",
    "        \n",
    "    content = ret.content.decode('utf8')\n",
    "    hub_info = parse_ucsc(content)[0]\n",
    "    \n",
    "    genomes_url = f'{base_url}/{hub_info[\"genomesFile\"]}'\n",
    "    ret = requests.get(genomes_url)\n",
    "    \n",
    "    content = ret.content.decode('utf8')\n",
    "    genome_infos = parse_ucsc(content)\n",
    "    \n",
    "    for genome_info in genome_infos:\n",
    "        sync_genome(base_url, genome_info)\n",
    "    \n",
    "def sync_genome(base_url, genome_info):\n",
    "    track_db_url = f\"{base_url}/{genome_info['trackDb']}\"\n",
    "    ret = requests.get(track_db_url)\n",
    "    content = ret.content.decode('utf8')\n",
    "    genome_info_path = op.split(genome_info['trackDb'])[0]\n",
    "    \n",
    "    track_infos = parse_ucsc(content)\n",
    "    for track in track_infos:\n",
    "        if (track['type'] == 'bigWig'\n",
    "            and track.get('bigDataUrl')):\n",
    "            big_data_path = f\"{base_url}/{genome_info_path}/{track.get('bigDataUrl')}\"\n",
    "            \n",
    "            project.sync_dataset(\n",
    "                big_data_path,\n",
    "                datatype='vector',\n",
    "                filetype='bigwig',\n",
    "                assembly=genome_info['genome'],\n",
    "                name=track.get('shortLabel'),\n",
    "                description=track.get('longLabel')\n",
    "            )\n",
    "                \n",
    "sync_track_hub('http://homer.ucsd.edu/hubs//nuclei_atac_hg19_pooled/')"
   ]
  },
  {
   "cell_type": "code",
   "execution_count": 74,
   "metadata": {},
   "outputs": [
    {
     "name": "stdout",
     "output_type": "stream",
     "text": [
      " 100.00% Complete"
     ]
    }
   ],
   "source": [
    "sync_track_hub('http://homer.ucsd.edu/hubs//nuclei_h3k27ac_hg19_pooled/')"
   ]
  },
  {
   "cell_type": "code",
   "execution_count": 75,
   "metadata": {},
   "outputs": [
    {
     "name": "stdout",
     "output_type": "stream",
     "text": [
      " 100.00% Complete"
     ]
    }
   ],
   "source": [
    "sync_track_hub('http://homer.ucsd.edu/hubs//nuclei_h3k4me3_hg19_pooled')"
   ]
  },
  {
   "cell_type": "code",
   "execution_count": 76,
   "metadata": {},
   "outputs": [
    {
     "name": "stdout",
     "output_type": "stream",
     "text": [
      "\r",
      " 100.00% Complete"
     ]
    },
    {
     "data": {
      "text/plain": [
       "R4e7-rVf: Microglia PLAC-seq"
      ]
     },
     "execution_count": 76,
     "metadata": {},
     "output_type": "execute_result"
    }
   ],
   "source": [
    "project.sync_dataset(\n",
    "    'http://homer.ucsd.edu/iholtman/Nuclei_project/interaction/MAPS/hg19/Microglia.5k_interactions_ucsc_genome_browser.inter.bb',\n",
    "    datatype='bedlike',\n",
    "    filetype='bigbed',\n",
    "    name='Microglia PLAC-seq',\n",
    "    assembly='hg19'\n",
    ")"
   ]
  },
  {
   "cell_type": "code",
   "execution_count": 77,
   "metadata": {},
   "outputs": [
    {
     "name": "stdout",
     "output_type": "stream",
     "text": [
      "\r",
      " 100.00% Complete"
     ]
    },
    {
     "data": {
      "text/plain": [
       "JzccFAJU: Neuron PLAC-seq"
      ]
     },
     "execution_count": 77,
     "metadata": {},
     "output_type": "execute_result"
    }
   ],
   "source": [
    "project.sync_dataset(\n",
    "    'http://homer.ucsd.edu/iholtman/Nuclei_project/interaction/MAPS/hg19/NeuN.5k_interactions_ucsc_genome_browser.inter.bb',\n",
    "    datatype='bedlike',\n",
    "    filetype='bigbed',\n",
    "    name='Neuron PLAC-seq',\n",
    "    assembly='hg19'\n",
    ")"
   ]
  },
  {
   "cell_type": "code",
   "execution_count": null,
   "metadata": {},
   "outputs": [],
   "source": [
    "# dang, accidentally deleted the source of this dataset so commenting the entire section out\n",
    "\n",
    "# project.sync_dataset(\n",
    "#     datatype='bedlike',\n",
    "#     filetype='bigbed',\n",
    "#     name='Oligodendrocyte PLAC-seq',\n",
    "#     assembly='hg19'\n",
    "# )"
   ]
  },
  {
   "cell_type": "code",
   "execution_count": 56,
   "metadata": {},
   "outputs": [
    {
     "data": {
      "text/plain": [
       "{'genome': 'hg19', 'trackDb': 'hg19/trackDb.txt'}"
      ]
     },
     "execution_count": 56,
     "metadata": {},
     "output_type": "execute_result"
    }
   ],
   "source": [
    "genome_info = parse_ucsc(genomes_string)[0]\n",
    "genome_info"
   ]
  },
  {
   "cell_type": "code",
   "execution_count": 20,
   "metadata": {},
   "outputs": [],
   "source": [
    "chromsizes = rgc.find_datasets(\n",
    "  datatype='chromsizes', assembly='hg19'\n",
    ")[0]\n",
    "chrominfo = rgc.get_chrominfo(chromsizes)"
   ]
  },
  {
   "cell_type": "code",
   "execution_count": 27,
   "metadata": {},
   "outputs": [],
   "source": [
    "gene_annotations = rgc.find_datasets(\n",
    "    datatype='gene-annotations', assembly='hg19'\n",
    ")[0]"
   ]
  },
  {
   "cell_type": "code",
   "execution_count": 15,
   "metadata": {},
   "outputs": [
    {
     "name": "stdout",
     "output_type": "stream",
     "text": [
      "pooled_astrocytes_atac\n",
      "exvivo_atac_pooled\n",
      "exvivo_atac_pooled_tbp\n",
      "neurons_atac_pooled\n",
      "oligodendrocytes_atac_pooled\n",
      "peripheral_atac_pooled\n",
      "microglia_atac_pooled\n",
      "pooled_astrocytes_H3K27ac\n",
      "exvivo_H3K27ac_pooled\n",
      "exvivo_H3K27ac_pooled_tbp\n",
      "neurons_H3K27ac_pooled\n",
      "oligodendrocytes_H3K27ac_pooled\n",
      "peripheral_H3K27ac\n",
      "microglia_H3K27ac_pooled\n",
      "pooled_astrocytes_H3K4me3\n",
      "neurons_H3K4me3_pooled\n",
      "oligodendrocytes_H3K4me3_pooled\n",
      "microglia_H3K4me3_pooled\n",
      "Microglia PLAC-seq\n",
      "Neuron PLAC-seq\n",
      "Oligodendrocyte PLAC-seq\n"
     ]
    }
   ],
   "source": [
    "ds_dict = dict([(d.name, d) for d in project.list_datasets()])\n",
    "print(\"\\n\".join(ds_dict.keys()))"
   ]
  },
  {
   "cell_type": "code",
   "execution_count": 87,
   "metadata": {},
   "outputs": [
    {
     "data": {
      "text/plain": [
       "['pooled_astrocytes_H3K4me3',\n",
       " 'neurons_H3K4me3_pooled',\n",
       " 'oligodendrocytes_H3K4me3_pooled',\n",
       " 'microglia_H3K4me3_pooled']"
      ]
     },
     "execution_count": 87,
     "metadata": {},
     "output_type": "execute_result"
    }
   ],
   "source": [
    "[k for k in ds_dict.keys() if k.find('H3K4me3') > 0]"
   ]
  },
  {
   "cell_type": "code",
   "execution_count": 38,
   "metadata": {},
   "outputs": [],
   "source": [
    "gene_locs = {}\n",
    "\n",
    "for gene in ['cx3cr1', 'nefl', 'mog', 'gja1']:\n",
    "    annotation = rgc.get_gene(gene_annotations, gene)\n",
    "\n",
    "    gene_locs[gene] = chrominfo.to_gene_range(annotation, padding=1.5)"
   ]
  },
  {
   "cell_type": "code",
   "execution_count": 88,
   "metadata": {},
   "outputs": [
    {
     "data": {
      "application/vnd.jupyter.widget-view+json": {
       "model_id": "31ffcb3f6d824a3eafc3bf1d88f15f39",
       "version_major": 2,
       "version_minor": 0
      },
      "text/plain": [
       "HiGlassDisplay(auth_token='JWT eyJ0eXAiOiJKV1QiLCJhbGciOiJIUzI1NiJ9.eyJ1c2VyX2lkIjoyLCJ1c2VybmFtZSI6InBldGUiLC…"
      ]
     },
     "metadata": {},
     "output_type": "display_data"
    }
   ],
   "source": [
    "from higlass import Track, View\n",
    "import higlass\n",
    "\n",
    "options = {\n",
    "    'microglia': {\n",
    "        'barFillColor': 'rgb(201, 99, 95)'\n",
    "    },\n",
    "    'neurons': {\n",
    "        'barFillColor': 'rgb(55, 177, 144)'\n",
    "    },\n",
    "    'od': {\n",
    "        'barFillColor': 'rgb(54, 144, 192)'\n",
    "    },\n",
    "    'ac': {\n",
    "        'barFillColor': 'rgb(234, 182, 64)'\n",
    "    }\n",
    "}\n",
    "\n",
    "def view_at_loc(ds_names, tracks_options, location, x, xtra_track_opts={}):\n",
    "    tracks = [ds_dict[ds_name].hg_track(**{\n",
    "            **options, **xtra_track_opts\n",
    "        }) for ds_name, options in zip(ds_names, tracks_options)]\n",
    "    \n",
    "    return View([gene_annotations.hg_track()] + tracks,\n",
    "        initialXDomain = location, width=3, x=x)\n",
    "\n",
    "dsets_atac = ['microglia_atac_pooled',\n",
    "             'neurons_atac_pooled',\n",
    "             'oligodendrocytes_atac_pooled',\n",
    "             'pooled_astrocytes_atac']\n",
    "dsets_h3k27ac = ['microglia_H3K27ac_pooled',\n",
    "             'neurons_H3K27ac_pooled',\n",
    "             'oligodendrocytes_H3K27ac_pooled',\n",
    "             'pooled_astrocytes_H3K27ac']\n",
    "dsets_h3k4me3 = ['microglia_H3K4me3_pooled',\n",
    "             'neurons_H3K4me3_pooled',\n",
    "             'oligodendrocytes_H3K4me3_pooled',\n",
    "             'pooled_astrocytes_H3K4me3']\n",
    "\n",
    "tracks_options = [\n",
    "    options['microglia'],\n",
    "    options['neurons'],\n",
    "    options['od'],\n",
    "    options['ac']\n",
    "]\n",
    "\n",
    "views_atac = [\n",
    "    view_at_loc(dsets_atac, tracks_options, gene_locs['cx3cr1'], 0),\n",
    "    view_at_loc(dsets_atac, tracks_options, gene_locs['nefl'], 3, { 'labelPosition': 'hidden' }),\n",
    "    view_at_loc(dsets_atac, tracks_options, gene_locs['mog'], 6, { 'labelPosition': 'hidden' }),\n",
    "    view_at_loc(dsets_atac, tracks_options, gene_locs['gja1'], 9, { 'labelPosition': 'hidden' })\n",
    "]\n",
    "\n",
    "views_h3k27ac = [\n",
    "    view_at_loc(dsets_h3k27ac, tracks_options, gene_locs['cx3cr1'], 0),\n",
    "    view_at_loc(dsets_h3k27ac, tracks_options, gene_locs['nefl'], 3, { 'labelPosition': 'hidden' }),\n",
    "    view_at_loc(dsets_h3k27ac, tracks_options, gene_locs['mog'], 6, { 'labelPosition': 'hidden' }),\n",
    "    view_at_loc(dsets_h3k27ac, tracks_options, gene_locs['gja1'], 9, { 'labelPosition': 'hidden' })\n",
    "]\n",
    "\n",
    "views_h3k4me3 = [\n",
    "    view_at_loc(dsets_h3k4me3, tracks_options, gene_locs['cx3cr1'], 0),\n",
    "    view_at_loc(dsets_h3k4me3, tracks_options, gene_locs['nefl'], 3, { 'labelPosition': 'hidden' }),\n",
    "    view_at_loc(dsets_h3k4me3, tracks_options, gene_locs['mog'], 6, { 'labelPosition': 'hidden' }),\n",
    "    view_at_loc(dsets_h3k4me3, tracks_options, gene_locs['gja1'], 9, { 'labelPosition': 'hidden' })\n",
    "]\n",
    "\n",
    "(d,s,v) = higlass.display(\n",
    "    views_atac + views_h3k27ac + views_h3k4me3,\n",
    "    auth_token=f'JWT {rgc.get_token()}'\n",
    ")\n",
    "d"
   ]
  },
  {
   "cell_type": "code",
   "execution_count": 89,
   "metadata": {},
   "outputs": [],
   "source": [
    "project.sync_viewconf(v, \"Figure 1A\")"
   ]
  },
  {
   "cell_type": "code",
   "execution_count": 94,
   "metadata": {},
   "outputs": [
    {
     "data": {
      "application/javascript": [
       "\n",
       "require([\"https://unpkg.com/higlass-arcs@0.2.0/dist/higlass-arcs.min.js\"],\n",
       "    function(hglib) {\n",
       "});\n"
      ],
      "text/plain": [
       "<IPython.core.display.Javascript object>"
      ]
     },
     "metadata": {},
     "output_type": "display_data"
    }
   ],
   "source": [
    "%%javascript\n",
    "\n",
    "require([\"https://unpkg.com/higlass-arcs@0.2.0/dist/higlass-arcs.min.js\"],\n",
    "    function(hglib) {\n",
    "});"
   ]
  },
  {
   "cell_type": "code",
   "execution_count": 112,
   "metadata": {},
   "outputs": [],
   "source": []
  },
  {
   "cell_type": "code",
   "execution_count": 116,
   "metadata": {},
   "outputs": [
    {
     "data": {
      "text/plain": [
       "'chrX'"
      ]
     },
     "execution_count": 116,
     "metadata": {},
     "output_type": "execute_result"
    }
   ],
   "source": [
    "gene.chrom"
   ]
  },
  {
   "cell_type": "code",
   "execution_count": 152,
   "metadata": {},
   "outputs": [
    {
     "data": {
      "application/vnd.jupyter.widget-view+json": {
       "model_id": "f4f160097ce04a1c8171eaaa948cbcfb",
       "version_major": 2,
       "version_minor": 0
      },
      "text/plain": [
       "HiGlassDisplay(viewconf={'editable': True, 'views': [{'uid': 'bq8XqbKnSByCds_LNA0KPw', 'tracks': {'top': [{'ty…"
      ]
     },
     "metadata": {},
     "output_type": "display_data"
    }
   ],
   "source": [
    "gene = rgc.get_gene(gene_annotations, 'SALL1')\n",
    "domain=chrominfo.to_gene_range(gene, padding=0.5)\n",
    "domain=chrominfo.to_abs_range('chr16', 50850000, 51850000)\n",
    "\n",
    "arcs_options = {\n",
    "    \"track_type\": \"1d-arcs\",\n",
    "    \"position\": \"top\",\n",
    "    \"height\": 50,\n",
    "    \"labelPosition\": \"topLeft\",\n",
    "}\n",
    "\n",
    "dsets_atac = ['microglia_atac_pooled',\n",
    "             'neurons_atac_pooled',\n",
    "             'oligodendrocytes_atac_pooled']\n",
    "dsets_h3k27ac = ['microglia_H3K27ac_pooled',\n",
    "             'neurons_H3K27ac_pooled',\n",
    "             'oligodendrocytes_H3K27ac_pooled']\n",
    "dsets_h3k4me3 = ['microglia_H3K4me3_pooled',\n",
    "             'neurons_H3K4me3_pooled',\n",
    "             'oligodendrocytes_H3K4me3_pooled']\n",
    "\n",
    "def with_options(**kwargs):\n",
    "    return {**arcs_options, **kwargs}\n",
    "\n",
    "(d,s,v) = hg.display(\n",
    "    [\n",
    "        View([\n",
    "            Track('top-axis'),\n",
    "            chromsizes.hg_track(tickPositions=\"ends\"),\n",
    "            gene_annotations.hg_track()]\n",
    "            + [ds_dict[dset].hg_track(\n",
    "                **options\n",
    "            ) for dset,options in zip(dsets_atac, tracks_options)]\n",
    "            + [ds_dict[dset].hg_track(\n",
    "                **options\n",
    "            ) for dset,options in zip(dsets_h3k27ac, tracks_options)]\n",
    "            + [ds_dict[dset].hg_track(\n",
    "                **options\n",
    "            ) for dset,options in zip(dsets_h3k4me3, tracks_options)]\n",
    "            + [ds_dict['Microglia PLAC-seq'].hg_track(**{**arcs_options, 'strokeColor':'red'}),\n",
    "            ds_dict['Neuron PLAC-seq'].hg_track(**{**arcs_options, 'strokeColor':'green'}),\n",
    "            ds_dict['Oligodendrocyte PLAC-seq'].hg_track(**{**arcs_options, 'strokeColor':'blue'})\n",
    "        ], initialXDomain=domain)]\n",
    ")\n",
    "d"
   ]
  },
  {
   "cell_type": "code",
   "execution_count": 147,
   "metadata": {},
   "outputs": [],
   "source": [
    "## hi"
   ]
  },
  {
   "cell_type": "code",
   "execution_count": 123,
   "metadata": {},
   "outputs": [
    {
     "data": {
      "text/plain": [
       "{'chr1': 0,\n",
       " 'chr2': 249250621,\n",
       " 'chr3': 492449994,\n",
       " 'chr4': 690472424,\n",
       " 'chr5': 881626700,\n",
       " 'chr6': 1062541960,\n",
       " 'chr7': 1233657027,\n",
       " 'chr8': 1392795690,\n",
       " 'chr9': 1539159712,\n",
       " 'chr10': 1680373143,\n",
       " 'chr11': 1815907890,\n",
       " 'chr12': 1950914406,\n",
       " 'chr13': 2084766301,\n",
       " 'chr14': 2199936179,\n",
       " 'chr15': 2307285719,\n",
       " 'chr16': 2409817111,\n",
       " 'chr17': 2500171864,\n",
       " 'chr18': 2581367074,\n",
       " 'chr19': 2659444322,\n",
       " 'chr20': 2718573305,\n",
       " 'chr21': 2781598825,\n",
       " 'chr22': 2829728720,\n",
       " 'chrX': 2881033286,\n",
       " 'chrY': 3036303846,\n",
       " 'chrM': 3095677412,\n",
       " 'chr6_ssto_hap7': 3095693983,\n",
       " 'chr6_mcf_hap5': 3100622550,\n",
       " 'chr6_cox_hap2': 3105455948,\n",
       " 'chr6_mann_hap4': 3110251319,\n",
       " 'chr6_apd_hap1': 3114934582,\n",
       " 'chr6_qbl_hap6': 3119556872,\n",
       " 'chr6_dbb_hap3': 3124168856,\n",
       " 'chr17_ctg5_hap1': 3128779252,\n",
       " 'chr4_ctg9_hap1': 3130460080,\n",
       " 'chr1_gl000192_random': 3131050506,\n",
       " 'chrUn_gl000225': 3131598002,\n",
       " 'chr4_gl000194_random': 3131809175,\n",
       " 'chr4_gl000193_random': 3132000644,\n",
       " 'chr9_gl000200_random': 3132190433,\n",
       " 'chrUn_gl000222': 3132377468,\n",
       " 'chrUn_gl000212': 3132564329,\n",
       " 'chr7_gl000195_random': 3132751187,\n",
       " 'chrUn_gl000223': 3132934083,\n",
       " 'chrUn_gl000224': 3133114538,\n",
       " 'chrUn_gl000219': 3133294231,\n",
       " 'chr17_gl000205_random': 3133473429,\n",
       " 'chrUn_gl000215': 3133648017,\n",
       " 'chrUn_gl000216': 3133820562,\n",
       " 'chrUn_gl000217': 3133992856,\n",
       " 'chr9_gl000199_random': 3134165005,\n",
       " 'chrUn_gl000211': 3134334879,\n",
       " 'chrUn_gl000213': 3134501445,\n",
       " 'chrUn_gl000220': 3134665684,\n",
       " 'chrUn_gl000218': 3134827486,\n",
       " 'chr19_gl000209_random': 3134988633,\n",
       " 'chrUn_gl000221': 3135147802,\n",
       " 'chrUn_gl000214': 3135303199,\n",
       " 'chrUn_gl000228': 3135440917,\n",
       " 'chrUn_gl000227': 3135570037,\n",
       " 'chr1_gl000191_random': 3135698411,\n",
       " 'chr19_gl000208_random': 3135804844,\n",
       " 'chr9_gl000198_random': 3135897533,\n",
       " 'chr17_gl000204_random': 3135987618,\n",
       " 'chrUn_gl000233': 3136068928,\n",
       " 'chrUn_gl000237': 3136114869,\n",
       " 'chrUn_gl000230': 3136160736,\n",
       " 'chrUn_gl000242': 3136204427,\n",
       " 'chrUn_gl000243': 3136247950,\n",
       " 'chrUn_gl000241': 3136291291,\n",
       " 'chrUn_gl000236': 3136333443,\n",
       " 'chrUn_gl000240': 3136375377,\n",
       " 'chr17_gl000206_random': 3136417310,\n",
       " 'chrUn_gl000232': 3136458311,\n",
       " 'chrUn_gl000234': 3136498963,\n",
       " 'chr11_gl000202_random': 3136539494,\n",
       " 'chrUn_gl000238': 3136579597,\n",
       " 'chrUn_gl000244': 3136619536,\n",
       " 'chrUn_gl000248': 3136659465,\n",
       " 'chr8_gl000196_random': 3136699251,\n",
       " 'chrUn_gl000249': 3136738165,\n",
       " 'chrUn_gl000246': 3136776667,\n",
       " 'chr17_gl000203_random': 3136814821,\n",
       " 'chr8_gl000197_random': 3136852319,\n",
       " 'chrUn_gl000245': 3136889494,\n",
       " 'chrUn_gl000247': 3136926145,\n",
       " 'chr9_gl000201_random': 3136962567,\n",
       " 'chrUn_gl000235': 3136998715,\n",
       " 'chrUn_gl000239': 3137033189,\n",
       " 'chr21_gl000210_random': 3137067013,\n",
       " 'chrUn_gl000231': 3137094695,\n",
       " 'chrUn_gl000229': 3137122081,\n",
       " 'chrUn_gl000226': 3137141994,\n",
       " 'chr18_gl000207_random': 3137157002}"
      ]
     },
     "execution_count": 123,
     "metadata": {},
     "output_type": "execute_result"
    }
   ],
   "source": [
    "chrominfo.cum_chrom_lengths"
   ]
  },
  {
   "cell_type": "code",
   "execution_count": 104,
   "metadata": {},
   "outputs": [],
   "source": [
    "# hi"
   ]
  },
  {
   "cell_type": "code",
   "execution_count": null,
   "metadata": {},
   "outputs": [],
   "source": [
    "# hub_string = \"\"\"\n",
    "# hub nuclei_atac_hg19_pooled\n",
    "# shortLabel nuclei_atac_hg19_pooled\n",
    "# longLabel nuclei_atac_hg19_pooled\n",
    "# genomesFile genomes.txt\n",
    "# email alnott@ucsd.edu\n",
    "# \"\"\"\n",
    "\n",
    "# genomes_string = \"\"\"\n",
    "# genome hg19\n",
    "# trackDb hg19/trackDb.txt\n",
    "\n",
    "# genome mm9\n",
    "# trackDb mm9/trackDb.txt\n",
    "# \"\"\"\n",
    "\n",
    "# track_db_string = \"\"\"\n",
    "# track nuclei_atac_hg19_pooled\n",
    "# container multiWig\n",
    "# noInherit on\n",
    "# shortLabel nuclei_atac_hg19_pooled\n",
    "# longLabel nuclei_atac_hg19_pooled\n",
    "# type bigWig\n",
    "# configurable on\n",
    "# visibility full\n",
    "# aggregate transparentOverlay\n",
    "# showSubtrackColorOnUi on\n",
    "# autoScale on\n",
    "# windowingFunction maximum\n",
    "# priority 1.4\n",
    "# alwaysZero on\n",
    "# yLineMark 0\n",
    "# yLineOnOff on\n",
    "# maxHeightPixels 100:75:11\n",
    "\n",
    "# track human_LHX2nuclei_atac_epilepsy_pooled_hg19\n",
    "# bigDataUrl human_LHX2nuclei_atac_epilepsy_pooled_hg19.ucsc.bigWig\n",
    "# shortLabel pooled_astrocytes_atac\n",
    "# longLabel human_LHX2nuclei_atac_epilepsy_pooled_hg19\n",
    "# type bigWig\n",
    "# parent nuclei_atac_hg19_pooled\n",
    "# color 255,127,0\n",
    "\n",
    "# track human_microglia_atac_exvivo_pooled_hg19\n",
    "# bigDataUrl human_microglia_atac_exvivo_pooled_hg19.ucsc.bigWig\n",
    "# shortLabel exvivo_atac_pooled\n",
    "# longLabel human_microglia_atac_exvivo_pooled_hg19\n",
    "# type bigWig\n",
    "# parent nuclei_atac_hg19_pooled\n",
    "# color 152,78,163\n",
    "\n",
    "# track human_microglia_atac_exvivo_pooled_hg19_tbp\n",
    "# bigDataUrl human_microglia_atac_exvivo_pooled_hg19_tbp.ucsc.bigWig\n",
    "# shortLabel exvivo_atac_pooled_tbp\n",
    "# longLabel human_microglia_atac_exvivo_pooled_hg19_tbp\n",
    "# type bigWig\n",
    "# parent nuclei_atac_hg19_pooled\n",
    "# color 152,78,163\n",
    "\n",
    "# track human_NEUNnuclei_atac_epilepsy_pooled_hg19\n",
    "# bigDataUrl human_NEUNnuclei_atac_epilepsy_pooled_hg19.ucsc.bigWig\n",
    "# shortLabel neurons_atac_pooled\n",
    "# longLabel human_NEUNnuclei_atac_epilepsy_pooled_hg19\n",
    "# type bigWig\n",
    "# parent nuclei_atac_hg19_pooled\n",
    "# color 77,175,74\n",
    "\n",
    "# track human_OLIG2nuclei_atac_epilepsy_pooled_hg19\n",
    "# bigDataUrl human_OLIG2nuclei_atac_epilepsy_pooled_hg19.ucsc.bigWig\n",
    "# shortLabel oligodendrocytes_atac_pooled\n",
    "# longLabel human_OLIG2nuclei_atac_epilepsy_pooled_hg19\n",
    "# type bigWig\n",
    "# parent nuclei_atac_hg19_pooled\n",
    "# color 55,126,184\n",
    "\n",
    "# track human_peripheralPU1nuclei_atac_hg19\n",
    "# bigDataUrl human_peripheralPU1nuclei_atac_hg19.ucsc.bigWig\n",
    "# shortLabel peripheral_atac_pooled\n",
    "# longLabel human_peripheralPU1nuclei_atac_hg19\n",
    "# type bigWig\n",
    "# parent nuclei_atac_hg19_pooled\n",
    "# color 177,89,40\n",
    "\n",
    "# track human_PU1nuclei_atac_epilepsy_pooled_hg19\n",
    "# bigDataUrl human_PU1nuclei_atac_epilepsy_pooled_hg19.ucsc.bigWig\n",
    "# shortLabel microglia_atac_pooled\n",
    "# longLabel human_PU1nuclei_atac_epilepsy_pooled_hg19\n",
    "# type bigWig\n",
    "# parent nuclei_atac_hg19_pooled\n",
    "# color 228,26,28\n",
    "# \"\"\""
   ]
  }
 ],
 "metadata": {
  "kernelspec": {
   "display_name": "Python 3",
   "language": "python",
   "name": "python3"
  },
  "language_info": {
   "codemirror_mode": {
    "name": "ipython",
    "version": 3
   },
   "file_extension": ".py",
   "mimetype": "text/x-python",
   "name": "python",
   "nbconvert_exporter": "python",
   "pygments_lexer": "ipython3",
   "version": "3.6.2"
  }
 },
 "nbformat": 4,
 "nbformat_minor": 2
}
