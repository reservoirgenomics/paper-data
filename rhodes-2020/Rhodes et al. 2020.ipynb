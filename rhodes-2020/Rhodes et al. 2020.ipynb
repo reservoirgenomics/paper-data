{
 "cells": [
  {
   "cell_type": "code",
   "execution_count": 1,
   "metadata": {},
   "outputs": [],
   "source": [
    "%load_ext autoreload\n",
    "%autoreload 2"
   ]
  },
  {
   "cell_type": "code",
   "execution_count": 3,
   "metadata": {},
   "outputs": [],
   "source": [
    "import os\n",
    "import resgen as rg\n",
    "\n",
    "rgc = rg.connect(os.environ['RGU'], os.environ['RGP'])"
   ]
  },
  {
   "cell_type": "code",
   "execution_count": 4,
   "metadata": {},
   "outputs": [],
   "source": [
    "project = rgc.find_or_create_project('Rhodes et al. 2020', group='paper-data')"
   ]
  },
  {
   "cell_type": "code",
   "execution_count": 11,
   "metadata": {},
   "outputs": [
    {
     "data": {
      "text/plain": [
       "BxDd0VXJ: Ring1B_Aux_all_5kb_balanced.mcool"
      ]
     },
     "execution_count": 11,
     "metadata": {},
     "output_type": "execute_result"
    }
   ],
   "source": [
    "project.sync_dataset(\n",
    "    'https://www.ebi.ac.uk/arrayexpress/files/E-MTAB-7816/E-MTAB-7816.processed.1.zip/Ring1B_Aux_all_5kb_balanced.mcool',\n",
    "    assembly='mm10'\n",
    ")\n",
    "project.sync_dataset(\n",
    "    'https://www.ebi.ac.uk/arrayexpress/files/E-MTAB-7816/E-MTAB-7816.processed.2.zip/Scc1_Aux_all_5kb_balanced.mcool',\n",
    "    assembly='mm10'\n",
    ")\n",
    "project.sync_dataset(\n",
    "    'https://www.ebi.ac.uk/arrayexpress/files/E-MTAB-7816/E-MTAB-7816.processed.3.zip/Tir1_Aux_all_5kb_balanced.mcool',\n",
    "    assembly='mm10'\n",
    ")"
   ]
  }
 ],
 "metadata": {
  "kernelspec": {
   "display_name": "Python 3",
   "language": "python",
   "name": "python3"
  },
  "language_info": {
   "codemirror_mode": {
    "name": "ipython",
    "version": 3
   },
   "file_extension": ".py",
   "mimetype": "text/x-python",
   "name": "python",
   "nbconvert_exporter": "python",
   "pygments_lexer": "ipython3",
   "version": "3.6.2"
  }
 },
 "nbformat": 4,
 "nbformat_minor": 2
}
