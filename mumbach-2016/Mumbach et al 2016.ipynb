{
 "cells": [
  {
   "cell_type": "code",
   "execution_count": 1,
   "metadata": {},
   "outputs": [],
   "source": [
    "%load_ext autoreload\n",
    "%autoreload 2"
   ]
  },
  {
   "cell_type": "code",
   "execution_count": 5,
   "metadata": {},
   "outputs": [],
   "source": [
    "import os\n",
    "import resgen as rg\n",
    "\n",
    "rgc = rg.connect(os.getenv('RESGEN_USER'), os.getenv('RESGEN_PASSWORD'))"
   ]
  },
  {
   "cell_type": "code",
   "execution_count": 6,
   "metadata": {},
   "outputs": [],
   "source": [
    "project = rgc.find_or_create_project('Mumbach et al. 2016', group='paper-data')"
   ]
  },
  {
   "cell_type": "code",
   "execution_count": 35,
   "metadata": {},
   "outputs": [
    {
     "name": "stdout",
     "output_type": "stream",
     "text": [
      "Inferred filetype: cooler\n",
      "Inferred datatype: matrix\n",
      "Inferred filetype: cooler\n",
      "Inferred datatype: matrix\n",
      "Inferred filetype: cooler\n",
      "Inferred datatype: matrix\n"
     ]
    },
    {
     "data": {
      "text/plain": [
       "BfHPm0qW: GSE80820_HiChIP_mES_cohesin_all.mcool"
      ]
     },
     "execution_count": 35,
     "metadata": {},
     "output_type": "execute_result"
    }
   ],
   "source": [
    "project.sync_dataset('GSE80820_HiChIP_mES_Oct4.mcool', assembly='mm9')\n",
    "project.sync_dataset('GSE80820_HiChIP_GM_cohesin.mcool', assembly='hg19')\n",
    "project.sync_dataset('GSE80820_HiChIP_mES_cohesin_all.mcool', assembly='mm9')"
   ]
  },
  {
   "cell_type": "code",
   "execution_count": 38,
   "metadata": {},
   "outputs": [],
   "source": [
    "ds = project.sync_dataset(\n",
    "    'HiCCUPS_mES_cohesin_all/GSE80820_HiChIP_hiccups_loops_mES_cohesin_all.beddb',\n",
    "    assembly='mm9',\n",
    "    datatype='bedlike',\n",
    "    filetype='beddb'\n",
    ")"
   ]
  },
  {
   "cell_type": "code",
   "execution_count": 47,
   "metadata": {},
   "outputs": [
    {
     "data": {
      "application/javascript": [
       "\n",
       "require([\"https://unpkg.com/higlass-arcs@0.1.7/dist/higlass-arcs.min.js\"],\n",
       "    function(hglib) {\n",
       "});\n"
      ],
      "text/plain": [
       "<IPython.core.display.Javascript object>"
      ]
     },
     "metadata": {},
     "output_type": "display_data"
    }
   ],
   "source": [
    "%%javascript\n",
    "\n",
    "require([\"https://unpkg.com/higlass-arcs@0.1.7/dist/higlass-arcs.min.js\"],\n",
    "    function(hglib) {\n",
    "});"
   ]
  },
  {
   "cell_type": "code",
   "execution_count": 40,
   "metadata": {},
   "outputs": [],
   "source": [
    "tr = ds.hg_track(track_type='1d-arcs',\n",
    "                 position='top', height=100)"
   ]
  },
  {
   "cell_type": "code",
   "execution_count": 41,
   "metadata": {},
   "outputs": [
    {
     "data": {
      "text/plain": [
       "{'GSE80820_HiChIP_mES_Oct4.mcool': ZNC7GBb7: GSE80820_HiChIP_mES_Oct4.mcool,\n",
       " 'GSE80820_HiChIP_GM_cohesin.mcool': KZaf4npb: GSE80820_HiChIP_GM_cohesin.mcool,\n",
       " 'GSE80820_HiChIP_mES_cohesin_all.mcool': BfHPm0qW: GSE80820_HiChIP_mES_cohesin_all.mcool,\n",
       " 'GSE80820_HiChIP_hiccups_loops_mES_cohesin_all.beddb': D3QBgh1R: GSE80820_HiChIP_hiccups_loops_mES_cohesin_all.beddb}"
      ]
     },
     "execution_count": 41,
     "metadata": {},
     "output_type": "execute_result"
    }
   ],
   "source": [
    "datasets = rgc.find_datasets(project=project, limit=20)\n",
    "ds_dict = dict([(d.name, d) for d in datasets])\n",
    "ds_dict"
   ]
  },
  {
   "cell_type": "code",
   "execution_count": 42,
   "metadata": {},
   "outputs": [],
   "source": [
    "chromsizes_mm9 = rgc.find_datasets(\n",
    "    datatype='chromsizes', assembly='mm9'\n",
    ")[0]\n",
    "gene_annotations = rgc.find_datasets(\n",
    "    datatype='gene-annotations', assembly='mm9'\n",
    ")[0]"
   ]
  },
  {
   "cell_type": "code",
   "execution_count": 46,
   "metadata": {},
   "outputs": [
    {
     "data": {
      "application/vnd.jupyter.widget-view+json": {
       "model_id": "e4eb0e7bd001416a8688c80b310bf006",
       "version_major": 2,
       "version_minor": 0
      },
      "text/plain": [
       "HiGlassDisplay(viewconf={'editable': True, 'views': [{'uid': 'b9KiXmsHTbOf3ahsL6o2HQ', 'tracks': {'top': [{'ty…"
      ]
     },
     "metadata": {},
     "output_type": "display_data"
    }
   ],
   "source": [
    "import higlass\n",
    "from higlass.client import View\n",
    "\n",
    "view = View(\n",
    "    [\n",
    "        chromsizes_mm9.hg_track(),\n",
    "        gene_annotations.hg_track(),\n",
    "        tr,\n",
    "        ds_dict['GSE80820_HiChIP_mES_cohesin_all.mcool'].hg_track(\n",
    "            track_type='horizontal-heatmap',\n",
    "            height=200,\n",
    "            labelPosition='topLeft'\n",
    "        )\n",
    "    ],\n",
    "    initialXDomain=[0,1e8])\n",
    "(d,s,v) = higlass.display([view])\n",
    "d"
   ]
  },
  {
   "cell_type": "code",
   "execution_count": 52,
   "metadata": {},
   "outputs": [],
   "source": [
    "project.sync_viewconf(d.viewconf, 'HiChIP loops with heatmap and arcs')"
   ]
  },
  {
   "cell_type": "code",
   "execution_count": 57,
   "metadata": {},
   "outputs": [],
   "source": [
    "rao_proj = rgc.find_project('Rao et al. 2014', group='paper-data')"
   ]
  },
  {
   "cell_type": "code",
   "execution_count": 69,
   "metadata": {},
   "outputs": [
    {
     "data": {
      "text/plain": [
       "{'Rao2014-GM12878-MboI-allreps-filtered.mcool': J73wN2WC: Rao2014-GM12878-MboI-allreps-filtered.mcool}"
      ]
     },
     "execution_count": 69,
     "metadata": {},
     "output_type": "execute_result"
    }
   ],
   "source": [
    "rao_dict = dict([d.name, d] for d in rao_proj.list_datasets())\n",
    "rao_dict"
   ]
  },
  {
   "cell_type": "code",
   "execution_count": 70,
   "metadata": {},
   "outputs": [],
   "source": [
    "hichip = ds_dict['GSE80820_HiChIP_GM_cohesin.mcool']\n",
    "hic = rao_dict['Rao2014-GM12878-MboI-allreps-filtered.mcool']"
   ]
  },
  {
   "cell_type": "code",
   "execution_count": 74,
   "metadata": {},
   "outputs": [],
   "source": [
    "chromsizes_hg19 = rgc.find_datasets(\n",
    "    datatype='chromsizes', assembly='hg19'\n",
    ")[0]\n",
    "chrominfo_hg19 = rgc.get_chrominfo(chromsizes_hg19)"
   ]
  },
  {
   "cell_type": "code",
   "execution_count": 124,
   "metadata": {},
   "outputs": [
    {
     "data": {
      "application/vnd.jupyter.widget-view+json": {
       "model_id": "fd921ddb95f945f196f006861e6dfe2a",
       "version_major": 2,
       "version_minor": 0
      },
      "text/plain": [
       "HiGlassDisplay(auth_token='JWT eyJ0eXAiOiJKV1QiLCJhbGciOiJIUzI1NiJ9.eyJ1c2VyX2lkIjoyLCJ1c2VybmFtZSI6InBldGUiLC…"
      ]
     },
     "metadata": {},
     "output_type": "display_data"
    }
   ],
   "source": [
    "from higlass.utils import hg_cmap\n",
    "\n",
    "padding = 0.05\n",
    "wide_view = chrominfo_hg19.to_abs_range('chr8', 0, 147e6, padding)\n",
    "middle_view = chrominfo_hg19.to_abs_range('chr8', 128e6, 142e6, padding)\n",
    "narrow_view = chrominfo_hg19.to_abs_range('chr8', 133.9e6, 134.5e6, padding)\n",
    "\n",
    "track_options = {\n",
    "    'colorRange': hg_cmap('Reds'),\n",
    "    'height': 200,\n",
    "    'colorbarPosition': 'hidden',\n",
    "    'labelPosition': 'hidden',\n",
    "    'showMousePosition': 'true',\n",
    "}\n",
    "\n",
    "vp_options = {\n",
    "    'projectionFillColor': 'black',\n",
    "    'projectionStrokeColor': 'white',\n",
    "}\n",
    "\n",
    "from higlass.client import ViewportProjection\n",
    "\n",
    "v_hch3= View([hichip.hg_track(**track_options)],\n",
    "         width=4, x=8, initialXDomain=narrow_view)\n",
    "vp3 = ViewportProjection(v_hch3, options=vp_options)\n",
    "\n",
    "v_hch2= View([hichip.hg_track(**track_options) + vp3],\n",
    "         width=4, x=4, initialXDomain=middle_view)\n",
    "vp2 = ViewportProjection(v_hch2, options=vp_options)\n",
    "\n",
    "v_hch1= View([hichip.hg_track(\n",
    "            **{\n",
    "                **track_options,\n",
    "                \"name\": \"HiChIP\",\n",
    "                \"labelPosition\": \"topLeft\"\n",
    "            }) + vp2],\n",
    "         width=4, initialXDomain=wide_view)\n",
    "\n",
    "v_hic3= View([hic.hg_track(**track_options)],\n",
    "         width=4, x=8, initialXDomain=narrow_view)\n",
    "v_hic2= View([hic.hg_track(**track_options) + vp3],\n",
    "         width=4, x=4, initialXDomain=middle_view)\n",
    "v_hic1= View([hic.hg_track(\n",
    "            **{\n",
    "                **track_options,\n",
    "                \"name\": \"Hi-C\",\n",
    "                \"labelPosition\": \"topLeft\"\n",
    "            }) + vp2],\n",
    "         width=4, initialXDomain=wide_view)\n",
    "\n",
    "syncs = [[v_hch1, v_hic1], [v_hch2, v_hic2], [v_hch3, v_hic3]]\n",
    "\n",
    "(d,s,v) = higlass.display([\n",
    "    v_hch1, v_hch2, v_hch3,\n",
    "    v_hic1, v_hic2, v_hic3\n",
    "],\n",
    "    location_syncs=syncs,\n",
    "    zoom_syncs=syncs,\n",
    "    auth_token=f\"JWT {rgc.token}\")\n",
    "d"
   ]
  },
  {
   "cell_type": "code",
   "execution_count": 125,
   "metadata": {},
   "outputs": [],
   "source": [
    "project.sync_viewconf(v, \"Fig. 2A HiChIP vs. Hi-C\")"
   ]
  },
  {
   "cell_type": "code",
   "execution_count": 136,
   "metadata": {},
   "outputs": [
    {
     "data": {
      "application/vnd.jupyter.widget-view+json": {
       "model_id": "3eb99890432a49ce8807c92cdb651832",
       "version_major": 2,
       "version_minor": 0
      },
      "text/plain": [
       "HiGlassDisplay(viewconf={'editable': True, 'views': [{'uid': 'W6DIx9uhR42I8Wg5o7uGOA', 'tracks': {'top': [], '…"
      ]
     },
     "metadata": {},
     "output_type": "display_data"
    }
   ],
   "source": [
    "extent = chrominfo_hg19.to_abs_range('chr9', 36.95e6, 37.45e6, 0.05)\n",
    "\n",
    "track_options = {\n",
    "}\n",
    "\n",
    "hic_track =hic.hg_track(\n",
    "            **{\n",
    "                **track_options,\n",
    "                \"name\": \"Hi-C\",\n",
    "                \"labelPosition\": \"topLeft\"\n",
    "            }) \n",
    "\n",
    "hch_track = hichip.hg_track(\n",
    "            **{\n",
    "                **track_options,\n",
    "                \"name\": \"HiChIP\",\n",
    "                \"labelPosition\": \"topLeft\"\n",
    "            })\n",
    "v_hic1= View([hic_track],\n",
    "         width=4, x=4, initialXDomain=extent)\n",
    "\n",
    "v_hch1= View([hch_track],\n",
    "         width=4, initialXDomain=extent)\n",
    "v_div = View([hch_track / hic_track],\n",
    "             width=4, x=8, initialXDomain=extent)\n",
    "(d,s,v) = higlass.display([v_hic1, v_hch1, v_div])\n",
    "d"
   ]
  },
  {
   "cell_type": "code",
   "execution_count": null,
   "metadata": {},
   "outputs": [],
   "source": []
  }
 ],
 "metadata": {
  "kernelspec": {
   "display_name": "Python 3",
   "language": "python",
   "name": "python3"
  },
  "language_info": {
   "codemirror_mode": {
    "name": "ipython",
    "version": 3
   },
   "file_extension": ".py",
   "mimetype": "text/x-python",
   "name": "python",
   "nbconvert_exporter": "python",
   "pygments_lexer": "ipython3",
   "version": "3.6.2"
  }
 },
 "nbformat": 4,
 "nbformat_minor": 2
}
