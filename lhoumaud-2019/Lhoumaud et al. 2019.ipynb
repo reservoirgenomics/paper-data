{
 "cells": [
  {
   "cell_type": "code",
   "execution_count": 1,
   "metadata": {},
   "outputs": [],
   "source": [
    "%load_ext autoreload\n",
    "%autoreload 2"
   ]
  },
  {
   "cell_type": "code",
   "execution_count": 2,
   "metadata": {},
   "outputs": [],
   "source": [
    "import os\n",
    "import resgen as rg\n",
    "\n",
    "rgc = rg.connect(os.getenv('RGU'), os.getenv('RGP'))"
   ]
  },
  {
   "cell_type": "code",
   "execution_count": 3,
   "metadata": {},
   "outputs": [],
   "source": [
    "project = rgc.find_or_create_project('Lhoumaud et al. 2019')"
   ]
  },
  {
   "cell_type": "code",
   "execution_count": 4,
   "metadata": {},
   "outputs": [],
   "source": [
    "h3k36m3_high1 = project.sync_dataset(\n",
    "    'ftp://ftp.ncbi.nlm.nih.gov/geo/samples/GSM3791nnn/GSM3791763/suppl/GSM3791763_K36me2_High1_SI.bw',\n",
    "    assembly='hg38'\n",
    ")"
   ]
  },
  {
   "cell_type": "code",
   "execution_count": 5,
   "metadata": {},
   "outputs": [],
   "source": [
    "h3k36m3_low1 = project.sync_dataset(\n",
    "    'ftp://ftp.ncbi.nlm.nih.gov/geo/samples/GSM3791nnn/GSM3791765/suppl/GSM3791765_K36me2_Low1_SI.bw',\n",
    "    assembly='hg38'\n",
    ")"
   ]
  },
  {
   "cell_type": "code",
   "execution_count": 6,
   "metadata": {},
   "outputs": [],
   "source": [
    "h3k27ac_high1 = project.sync_dataset(\n",
    "    'ftp://ftp.ncbi.nlm.nih.gov/geo/samples/GSM3791nnn/GSM3791753/suppl/GSM3791753_KMS11_H3K27ac_RPKM.bw',\n",
    "    assembly='hg38'\n",
    ")"
   ]
  },
  {
   "cell_type": "code",
   "execution_count": 7,
   "metadata": {},
   "outputs": [],
   "source": [
    "h3k27ac_low1 = project.sync_dataset(\n",
    "    'ftp://ftp.ncbi.nlm.nih.gov/geo/samples/GSM3791nnn/GSM3791756/suppl/GSM3791756_TKO1_H3K27ac_RPKM.bw',\n",
    "    assembly='hg38'\n",
    ")"
   ]
  },
  {
   "cell_type": "code",
   "execution_count": 8,
   "metadata": {},
   "outputs": [],
   "source": [
    "nsd2_high = project.sync_dataset(\n",
    "    'GSE131651_NSD2_HIGH_arima.mcool',\n",
    "    assembly='hg19'\n",
    ")"
   ]
  },
  {
   "cell_type": "code",
   "execution_count": 9,
   "metadata": {},
   "outputs": [],
   "source": [
    "nsd2_low = project.sync_dataset(\n",
    "    'GSE131651_NSD2_LOW_arima.mcool',\n",
    "    assembly='hg19'\n",
    ")"
   ]
  },
  {
   "cell_type": "code",
   "execution_count": 11,
   "metadata": {},
   "outputs": [],
   "source": [
    "chromsizes = rgc.find_datasets(\n",
    "  datatype='chromsizes', assembly='hg38'\n",
    ")[0]\n",
    "chrominfo = rgc.get_chrominfo(chromsizes)"
   ]
  },
  {
   "cell_type": "code",
   "execution_count": 12,
   "metadata": {},
   "outputs": [],
   "source": [
    "gene_annotations = rgc.find_datasets(\n",
    "    datatype='gene-annotations', assembly='hg38'\n",
    ")[0]"
   ]
  },
  {
   "cell_type": "code",
   "execution_count": 20,
   "metadata": {},
   "outputs": [
    {
     "data": {
      "application/vnd.jupyter.widget-view+json": {
       "model_id": "50d84d8d33ff46cdadff856b7d9c3414",
       "version_major": 2,
       "version_minor": 0
      },
      "text/plain": [
       "HiGlassDisplay(auth_token='JWT eyJ0eXAiOiJKV1QiLCJhbGciOiJIUzI1NiJ9.eyJ1c2VyX2lkIjoyLCJ1c2VybmFtZSI6InBldGUiLC…"
      ]
     },
     "metadata": {},
     "output_type": "display_data"
    }
   ],
   "source": [
    "from higlass import Track, View\n",
    "import higlass\n",
    "\n",
    "initialXDomain = chrominfo.to_abs_range('chr10', 34820000, 38820001)\n",
    "\n",
    "tr1 = h3k36m3_high1.hg_track()\n",
    "tr2 = h3k36m3_low1.hg_track()\n",
    "\n",
    "linear_view = View(\n",
    "            [\n",
    "                chromsizes.hg_track(tickPositions='ends'),\n",
    "                ( h3k27ac_high1.hg_track() / h3k27ac_low1.hg_track()).change_attributes(\n",
    "                    height=100, type='horizontal-divergent-bar', position='top',\n",
    "                    options={\n",
    "                        \"valueScaling\": \"log\"\n",
    "                    }\n",
    "                ),\n",
    "                tr1,\n",
    "                tr2,\n",
    "                (tr1 / tr2).change_attributes(\n",
    "                    height=100, type='horizontal-divergent-bar', position='top'),\n",
    "                gene_annotations.hg_track()\n",
    "            ],\n",
    "            initialXDomain = initialXDomain, width=6\n",
    "        )\n",
    "\n",
    "(d,s,v) = higlass.display(\n",
    "    [linear_view],\n",
    "    auth_token=f\"JWT {rgc.get_token()}\")\n",
    "d"
   ]
  },
  {
   "cell_type": "code",
   "execution_count": 23,
   "metadata": {},
   "outputs": [],
   "source": [
    "chromsizes_hg19 = rgc.find_datasets(\n",
    "  datatype='chromsizes', assembly='hg19'\n",
    ")[0]\n",
    "chrominfo_hg19 = rgc.get_chrominfo(chromsizes_hg19)"
   ]
  },
  {
   "cell_type": "code",
   "execution_count": 29,
   "metadata": {},
   "outputs": [
    {
     "data": {
      "application/vnd.jupyter.widget-view+json": {
       "model_id": "b8248c0b3fb64a498ca19f5e0125d367",
       "version_major": 2,
       "version_minor": 0
      },
      "text/plain": [
       "HiGlassDisplay(viewconf={'editable': True, 'views': [{'uid': 'NVoAHsSDT3Gsu37OxF_RzA', 'tracks': {'top': [{'ty…"
      ]
     },
     "metadata": {},
     "output_type": "display_data"
    }
   ],
   "source": [
    "from higlass.utils import hg_cmap\n",
    "\n",
    "heatmap_options = {\n",
    "    \"height\": 200,\n",
    "    \"showMousePosition\": \"true\",\n",
    "}\n",
    "\n",
    "initialXDomain_hg19 = chrominfo_hg19.to_abs_range('chr10', 34000000, 39000000)\n",
    "\n",
    "\n",
    "views = [\n",
    "#     linear_view,\n",
    "    View([\n",
    "        chromsizes_hg19.hg_track(tickPositions='ends'),\n",
    "        nsd2_high.hg_track(**heatmap_options)\n",
    "    ], initialXDomain=initialXDomain_hg19, width=4, x=0, y=0),\n",
    "    View([\n",
    "        chromsizes_hg19.hg_track(tickPositions='ends'),\n",
    "        nsd2_low.hg_track(**heatmap_options),\n",
    "    ], initialXDomain=initialXDomain_hg19, width=4, x=9, y=0),\n",
    "    View([\n",
    "        chromsizes_hg19.hg_track(tickPositions='ends'),\n",
    "        (nsd2_high.hg_track() / nsd2_low.hg_track()).change_attributes(\n",
    "            **{\n",
    "                **heatmap_options,\n",
    "                \"options\": {\n",
    "                    \"colorRange\": hg_cmap('jet', reverse=True),\n",
    "                    \"showMousePosition\": \"true\"\n",
    "                }\n",
    "            }\n",
    "        )\n",
    "    ], initialXDomain=initialXDomain_hg19, x=4, width=4, y=0)\n",
    "]\n",
    "\n",
    "(d,s,v) = higlass.display(views, location_syncs=[views], zoom_syncs=[views])\n",
    "d"
   ]
  },
  {
   "cell_type": "code",
   "execution_count": 18,
   "metadata": {},
   "outputs": [],
   "source": [
    "project.sync_viewconf(v, \"Figure 4 (Draft)\")"
   ]
  },
  {
   "cell_type": "code",
   "execution_count": 32,
   "metadata": {},
   "outputs": [],
   "source": [
    "project.sync_viewconf(d.viewconf, 'Screenshot 1')"
   ]
  },
  {
   "cell_type": "code",
   "execution_count": null,
   "metadata": {},
   "outputs": [],
   "source": []
  }
 ],
 "metadata": {
  "kernelspec": {
   "display_name": "Python 3",
   "language": "python",
   "name": "python3"
  },
  "language_info": {
   "codemirror_mode": {
    "name": "ipython",
    "version": 3
   },
   "file_extension": ".py",
   "mimetype": "text/x-python",
   "name": "python",
   "nbconvert_exporter": "python",
   "pygments_lexer": "ipython3",
   "version": "3.6.2"
  }
 },
 "nbformat": 4,
 "nbformat_minor": 2
}
