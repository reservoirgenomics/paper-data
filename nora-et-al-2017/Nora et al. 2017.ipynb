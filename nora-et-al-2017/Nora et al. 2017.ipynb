{
 "cells": [
  {
   "cell_type": "code",
   "execution_count": 1,
   "metadata": {},
   "outputs": [],
   "source": [
    "%load_ext autoreload\n",
    "%autoreload 2"
   ]
  },
  {
   "cell_type": "markdown",
   "metadata": {},
   "source": [
    "## Nora et al. 2017\n",
    "\n",
    "GEO: https://www.ncbi.nlm.nih.gov/geo/query/acc.cgi?acc=GSE98671\n",
    "\n",
    "Paper: https://doi.org/10.1016/j.cell.2017.05.004\n",
    "\n",
    "### Preprocessing\n",
    "\n",
    "Commands in `COMMANDS` file\n",
    "\n",
    "### Notes\n",
    "\n",
    "* AID: Auxin inducible degron"
   ]
  },
  {
   "cell_type": "code",
   "execution_count": 2,
   "metadata": {},
   "outputs": [],
   "source": [
    "import os\n",
    "import resgen as rg\n",
    "\n",
    "rgc = rg.connect(\n",
    "  os.getenv('RESGEN_USER'),\n",
    "  os.getenv('RESGEN_PASSWORD')\n",
    ")"
   ]
  },
  {
   "cell_type": "code",
   "execution_count": 3,
   "metadata": {},
   "outputs": [],
   "source": [
    "project = rgc.find_or_create_project('Nora et al. 2017', group='paper-data')"
   ]
  },
  {
   "cell_type": "code",
   "execution_count": 4,
   "metadata": {},
   "outputs": [
    {
     "data": {
      "text/plain": [
       "'BRDX_k8bQKO0IGcTHlyHmA'"
      ]
     },
     "execution_count": 4,
     "metadata": {},
     "output_type": "execute_result"
    }
   ],
   "source": [
    "project.sync_dataset('ftp://ftp.ncbi.nlm.nih.gov/geo/samples/GSM2609nnn/GSM2609185/suppl/GSM2609185_CTCF_ChIP-seq_CTCF-AID_untreated_rep1_ENC124_tagDensity.bw',\n",
    "                    assembly='mm9', datatype='vector', filetype='bigwig')\n",
    "project.sync_dataset('ftp://ftp.ncbi.nlm.nih.gov/geo/samples/GSM2609nnn/GSM2609186/suppl/GSM2609186_CTCF_ChIP-seq_CTCF-AID_auxin2days_rep1_ENC125_tagDensity.bw',\n",
    "                    assembly='mm9', datatype='vector', filetype='bigwig')\n",
    "project.sync_dataset('ftp://ftp.ncbi.nlm.nih.gov/geo/samples/GSM2609nnn/GSM2609187/suppl/GSM2609187_CTCF_ChIP-seq_CTCF-AID_washoff_rep1_ENC126_tagDensity.bw',\n",
    "                    assembly='mm9', datatype='vector', filetype='bigwig')"
   ]
  },
  {
   "cell_type": "code",
   "execution_count": 5,
   "metadata": {},
   "outputs": [
    {
     "data": {
      "text/plain": [
       "'FH6V19oMS1WZIueLp5Vrrw'"
      ]
     },
     "execution_count": 5,
     "metadata": {},
     "output_type": "execute_result"
    }
   ],
   "source": [
    "project.sync_dataset('GSM2644945_Untreated-R1.20000.mcool', assembly='mm9', datatype='matrix', filetype='cooler')\n",
    "project.sync_dataset('GSM2644947_Auxin2days-R1.20000.mcool', assembly='mm9', datatype='matrix', filetype='cooler')\n",
    "project.sync_dataset('GSM2644949_Washoff2days-R1.20000.mcool', assembly='mm9', datatype='matrix', filetype='cooler')"
   ]
  },
  {
   "cell_type": "markdown",
   "metadata": {},
   "source": [
    "## Figures"
   ]
  },
  {
   "cell_type": "code",
   "execution_count": 6,
   "metadata": {},
   "outputs": [],
   "source": [
    "chromsizes_mm9 = rgc.find_datasets(\n",
    "  datatype='chromsizes', assembly='mm9'\n",
    ")[0]\n",
    "chrominfo = rgc.get_chrominfo(chromsizes_mm9)"
   ]
  },
  {
   "cell_type": "code",
   "execution_count": 7,
   "metadata": {},
   "outputs": [
    {
     "data": {
      "text/plain": [
       "{'GSM2609185_CTCF_ChIP-seq_CTCF-AID_untreated_rep1_ENC124_tagDensity.bw': MQxdUXHb: GSM2609185_CTCF_ChIP-seq_CTCF-AID_untreated_rep1_ENC124_tagDensity.bw,\n",
       " 'GSM2609186_CTCF_ChIP-seq_CTCF-AID_auxin2days_rep1_ENC125_tagDensity.bw': X-tjLqf7: GSM2609186_CTCF_ChIP-seq_CTCF-AID_auxin2days_rep1_ENC125_tagDensity.bw,\n",
       " 'GSM2609187_CTCF_ChIP-seq_CTCF-AID_washoff_rep1_ENC126_tagDensity.bw': BRDX_k8b: GSM2609187_CTCF_ChIP-seq_CTCF-AID_washoff_rep1_ENC126_tagDensity.bw,\n",
       " 'GSM2644945_Untreated-R1.20000.mcool': ZteVkOQQ: GSM2644945_Untreated-R1.20000.mcool,\n",
       " 'GSM2644947_Auxin2days-R1.20000.mcool': cpevKJDs: GSM2644947_Auxin2days-R1.20000.mcool,\n",
       " 'GSM2644949_Washoff2days-R1.20000.mcool': FH6V19oM: GSM2644949_Washoff2days-R1.20000.mcool}"
      ]
     },
     "execution_count": 7,
     "metadata": {},
     "output_type": "execute_result"
    }
   ],
   "source": [
    "datasets = rgc.find_datasets(project=project, limit=20)\n",
    "ds_dict = dict([(d.name, d) for d in datasets])\n",
    "ds_dict"
   ]
  },
  {
   "cell_type": "code",
   "execution_count": 15,
   "metadata": {},
   "outputs": [
    {
     "data": {
      "application/vnd.jupyter.widget-view+json": {
       "model_id": "f3cd3c0d7228425b8ff40fb54db9a821",
       "version_major": 2,
       "version_minor": 0
      },
      "text/plain": [
       "HiGlassDisplay(viewconf={'editable': True, 'views': [{'uid': 'LVakZgk-SraPnibyfGdPkQ', 'tracks': {'top': [{'ty…"
      ]
     },
     "metadata": {},
     "output_type": "display_data"
    }
   ],
   "source": [
    "import higlass\n",
    "from higlass.client import View, Track\n",
    "\n",
    "initialXDomain = [\n",
    "    chrominfo.to_abs('chr1', 16.6e6),\n",
    "    chrominfo.to_abs('chr1', 17.8e6)\n",
    "]\n",
    "\n",
    "options = {\n",
    "    \"height\": 240,\n",
    "    \"colorbarPosition\": \"hidden\",\n",
    "}\n",
    "\n",
    "ctcf_options = {\n",
    "    \"valueScaleMax\": 20,\n",
    "    \"name\": \"CTCF ChIP-seq\",\n",
    "}\n",
    "\n",
    "v1 = View(\n",
    "    [\n",
    "        ds_dict['GSM2609185_CTCF_ChIP-seq_CTCF-AID_untreated_rep1_ENC124_tagDensity.bw'].hg_track(\n",
    "            **ctcf_options,\n",
    "        ),\n",
    "        ds_dict['GSM2644945_Untreated-R1.20000.mcool'].hg_track(\n",
    "        **{**options, \"name\": \"untreated\"},\n",
    "        ),\n",
    "        chromsizes_mm9.hg_track(position=\"bottom\")\n",
    "    ],\n",
    "    initialXDomain=initialXDomain,\n",
    "    width=4,\n",
    ")\n",
    "\n",
    "v2 = View(\n",
    "    [\n",
    "        ds_dict['GSM2609186_CTCF_ChIP-seq_CTCF-AID_auxin2days_rep1_ENC125_tagDensity.bw'].hg_track(\n",
    "            **ctcf_options,\n",
    "        ),\n",
    "        ds_dict['GSM2644947_Auxin2days-R1.20000.mcool'].hg_track(\n",
    "        **{**options, \"name\": \"auxin 2 days\"}\n",
    "        ),\n",
    "        chromsizes_mm9.hg_track(position=\"bottom\")\n",
    "    ],\n",
    "    initialXDomain=initialXDomain,\n",
    "    width=4,\n",
    "    x=4\n",
    ")\n",
    "\n",
    "v3 = View(\n",
    "    [\n",
    "        ds_dict['GSM2609187_CTCF_ChIP-seq_CTCF-AID_washoff_rep1_ENC126_tagDensity.bw'].hg_track(\n",
    "            **ctcf_options,\n",
    "        ),\n",
    "        ds_dict['GSM2644949_Washoff2days-R1.20000.mcool'].hg_track(\n",
    "        **{**options, \"colorbarPosition\": \"topRight\", \"name\": \"auxin 2 days washoff 2 days\"}\n",
    "        ),\n",
    "        chromsizes_mm9.hg_track(position=\"bottom\")\n",
    "    ],\n",
    "    initialXDomain=initialXDomain,\n",
    "    width=4,\n",
    "    x=8\n",
    ")\n",
    "\n",
    "views = [v1,v2,v3]\n",
    "(d,s,v) = higlass.display(views,\n",
    "                          zoom_syncs=[views],\n",
    "                          location_syncs=[views],\n",
    "                          value_scale_syncs=[views])\n",
    "d"
   ]
  },
  {
   "cell_type": "code",
   "execution_count": 16,
   "metadata": {},
   "outputs": [],
   "source": [
    "project.sync_viewconf(v, \"Figure 2A\")"
   ]
  },
  {
   "cell_type": "code",
   "execution_count": null,
   "metadata": {},
   "outputs": [],
   "source": []
  }
 ],
 "metadata": {
  "kernelspec": {
   "display_name": "Python 3",
   "language": "python",
   "name": "python3"
  },
  "language_info": {
   "codemirror_mode": {
    "name": "ipython",
    "version": 3
   },
   "file_extension": ".py",
   "mimetype": "text/x-python",
   "name": "python",
   "nbconvert_exporter": "python",
   "pygments_lexer": "ipython3",
   "version": "3.6.2"
  }
 },
 "nbformat": 4,
 "nbformat_minor": 2
}
