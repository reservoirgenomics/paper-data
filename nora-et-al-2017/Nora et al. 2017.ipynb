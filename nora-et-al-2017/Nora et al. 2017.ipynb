{
 "cells": [
  {
   "cell_type": "markdown",
   "metadata": {},
   "source": [
    "## Nora et al. 2017\n",
    "\n",
    "GEO: https://www.ncbi.nlm.nih.gov/geo/query/acc.cgi?acc=GSE98671\n",
    "\n",
    "Paper: https://doi.org/10.1016/j.cell.2017.05.004\n",
    "\n",
    "### Preprocessing\n",
    "\n",
    "Commands in `COMMANDS` file\n",
    "\n",
    "### Notes\n",
    "\n",
    "* AID: Auxin inducible degron"
   ]
  },
  {
   "cell_type": "code",
   "execution_count": 4,
   "metadata": {},
   "outputs": [],
   "source": [
    "import os\n",
    "import resgen as rg\n",
    "\n",
    "rgc = rg.connect(\n",
    "  os.getenv('RESGEN_USER'),\n",
    "  os.getenv('RESGEN_PASSWORD')\n",
    ")"
   ]
  },
  {
   "cell_type": "code",
   "execution_count": 5,
   "metadata": {},
   "outputs": [],
   "source": [
    "project = rgc.find_or_create_project('Nora et al. 2017', group='paper-data')"
   ]
  },
  {
   "cell_type": "code",
   "execution_count": 7,
   "metadata": {},
   "outputs": [
    {
     "name": "stdout",
     "output_type": "stream",
     "text": [
      " 100.00% Complete"
     ]
    },
    {
     "data": {
      "text/plain": [
       "'MQxdUXHbRAqrsUy1yBgdpg'"
      ]
     },
     "execution_count": 7,
     "metadata": {},
     "output_type": "execute_result"
    }
   ],
   "source": [
    "project.sync_dataset('ftp://ftp.ncbi.nlm.nih.gov/geo/samples/GSM2609nnn/GSM2609185/suppl/GSM2609185_CTCF_ChIP-seq_CTCF-AID_untreated_rep1_ENC124_tagDensity.bw',\n",
    "                    assembly='mm9')\n",
    "project.sync_dataset('ftp://ftp.ncbi.nlm.nih.gov/geo/samples/GSM2609nnn/GSM2609186/suppl/GSM2609186_CTCF_ChIP-seq_CTCF-AID_auxin2days_rep1_ENC125_tagDensity.bw',\n",
    "                    assembly='mm9')\n",
    "project.sync_dataset('ftp://ftp.ncbi.nlm.nih.gov/geo/samples/GSM2609nnn/GSM2609187/suppl/GSM2609187_CTCF_ChIP-seq_CTCF-AID_washoff_rep1_ENC126_tagDensity.bw',\n",
    "                    assembly='mm9')"
   ]
  },
  {
   "cell_type": "code",
   "execution_count": 10,
   "metadata": {},
   "outputs": [
    {
     "name": "stdout",
     "output_type": "stream",
     "text": [
      "GSM2644945_Untreated-R1.20000.mcool  692886745 / 692886745.0  (100.00%)"
     ]
    },
    {
     "data": {
      "text/plain": [
       "'ZteVkOQQTCKNaZVnbAhMXQ'"
      ]
     },
     "execution_count": 10,
     "metadata": {},
     "output_type": "execute_result"
    }
   ],
   "source": [
    "project.sync_dataset('GSM2644945_Untreated-R1.20000.mcool', assembly='mm9')\n",
    "project.sync_dataset('GSM2644947_Auxin2days-R1.20000.mcool', assembly='mm9')\n",
    "project.sync_dataset('GSM2644949_Washoff2days-R1.20000.mcool', assembly='mm9')"
   ]
  }
 ],
 "metadata": {
  "kernelspec": {
   "display_name": "Python 3",
   "language": "python",
   "name": "python3"
  },
  "language_info": {
   "codemirror_mode": {
    "name": "ipython",
    "version": 3
   },
   "file_extension": ".py",
   "mimetype": "text/x-python",
   "name": "python",
   "nbconvert_exporter": "python",
   "pygments_lexer": "ipython3",
   "version": "3.6.2"
  }
 },
 "nbformat": 4,
 "nbformat_minor": 2
}
