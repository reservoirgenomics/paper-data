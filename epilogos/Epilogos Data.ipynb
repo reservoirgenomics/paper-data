{
 "cells": [
  {
   "cell_type": "code",
   "execution_count": 1,
   "metadata": {},
   "outputs": [],
   "source": [
    "%load_ext autoreload\n",
    "%autoreload 2"
   ]
  },
  {
   "cell_type": "code",
   "execution_count": 2,
   "metadata": {},
   "outputs": [],
   "source": [
    "from dotenv import load_dotenv\n",
    "import os.path as op\n",
    "load_dotenv(op.expanduser('~/.resgen/credentials'))\n",
    "\n",
    "import resgen as rg\n",
    "rgc=rg.connect()"
   ]
  },
  {
   "cell_type": "code",
   "execution_count": 3,
   "metadata": {},
   "outputs": [],
   "source": [
    "project = rgc.find_or_create_project('Epilogos', 'public')"
   ]
  },
  {
   "cell_type": "code",
   "execution_count": 84,
   "metadata": {},
   "outputs": [
    {
     "name": "stdout",
     "output_type": "stream",
     "text": [
      "\n",
      " 100.000% Complete (978075674 of 978075674)"
     ]
    },
    {
     "data": {
      "text/plain": [
       "IvQmRlf3: hg38.15.all.chromatinStates.multires.mv5"
      ]
     },
     "execution_count": 84,
     "metadata": {},
     "output_type": "execute_result"
    }
   ],
   "source": [
    "assembly='hg38'\n",
    "states=15\n",
    "\n",
    "# filename = f'https://resources.altius.org/~areynolds/public/epilogos-for-pete/{assembly}/{assembly}.{states}.all.KL.epilogos.multires.mv5'\n",
    "filename = f'https://resources.altius.org/~areynolds/public/epilogos-for-pete/{assembly}/{assembly}.{states}.all.chromatinStates.multires.mv5'\n",
    "\n",
    "project.sync_dataset(filename, datatype='epilogos', filetype='multivec', assembly=assembly, description='')\n"
   ]
  },
  {
   "cell_type": "code",
   "execution_count": 80,
   "metadata": {},
   "outputs": [
    {
     "name": "stdout",
     "output_type": "stream",
     "text": [
      "\n",
      " 2.085% Complete (18325504 of 878873990)"
     ]
    },
    {
     "ename": "KeyboardInterrupt",
     "evalue": "",
     "output_type": "error",
     "traceback": [
      "\u001b[0;31m---------------------------------------------------------------------------\u001b[0m",
      "\u001b[0;31mKeyboardInterrupt\u001b[0m                         Traceback (most recent call last)",
      "\u001b[0;32m<ipython-input-80-58dc028f4c67>\u001b[0m in \u001b[0;36m<module>\u001b[0;34m\u001b[0m\n\u001b[1;32m      6\u001b[0m             \u001b[0;34mf'https://resources.altius.org/~areynolds/public/epilogos-for-pete/{assembly}/{assembly}.{states}.all.KLss.epilogos.multires.mv5'\u001b[0m\u001b[0;34m,\u001b[0m\u001b[0;34m\u001b[0m\u001b[0;34m\u001b[0m\u001b[0m\n\u001b[1;32m      7\u001b[0m         ]:\n\u001b[0;32m----> 8\u001b[0;31m             \u001b[0mproject\u001b[0m\u001b[0;34m.\u001b[0m\u001b[0msync_dataset\u001b[0m\u001b[0;34m(\u001b[0m\u001b[0mfilename\u001b[0m\u001b[0;34m,\u001b[0m \u001b[0mdatatype\u001b[0m\u001b[0;34m=\u001b[0m\u001b[0;34m'epilogos'\u001b[0m\u001b[0;34m,\u001b[0m \u001b[0mfiletype\u001b[0m\u001b[0;34m=\u001b[0m\u001b[0;34m'multivec'\u001b[0m\u001b[0;34m,\u001b[0m \u001b[0massembly\u001b[0m\u001b[0;34m=\u001b[0m\u001b[0massembly\u001b[0m\u001b[0;34m,\u001b[0m \u001b[0mdescription\u001b[0m\u001b[0;34m=\u001b[0m\u001b[0;34m''\u001b[0m\u001b[0;34m)\u001b[0m\u001b[0;34m\u001b[0m\u001b[0;34m\u001b[0m\u001b[0m\n\u001b[0m\u001b[1;32m      9\u001b[0m \u001b[0;34m\u001b[0m\u001b[0m\n\u001b[1;32m     10\u001b[0m         \u001b[0mfilename\u001b[0m \u001b[0;34m=\u001b[0m \u001b[0;34mf'https://resources.altius.org/~areynolds/public/epilogos-for-pete/{assembly}/{assembly}.{states}.all.chromatinStates.multires.mv5'\u001b[0m\u001b[0;34m\u001b[0m\u001b[0;34m\u001b[0m\u001b[0m\n",
      "\u001b[0;32m~/projects/resgen-python/resgen/__init__.py\u001b[0m in \u001b[0;36msync_dataset\u001b[0;34m(self, filepath, filetype, datatype, assembly, index_filepath, force_update, **metadata)\u001b[0m\n\u001b[1;32m    823\u001b[0m         \u001b[0;32mif\u001b[0m \u001b[0;32mnot\u001b[0m \u001b[0mmatching_datasets\u001b[0m\u001b[0;34m:\u001b[0m\u001b[0;34m\u001b[0m\u001b[0;34m\u001b[0m\u001b[0m\n\u001b[1;32m    824\u001b[0m             uuid = self.add_dataset(\n\u001b[0;32m--> 825\u001b[0;31m                 \u001b[0mfilepath\u001b[0m\u001b[0;34m,\u001b[0m \u001b[0mdownload\u001b[0m\u001b[0;34m=\u001b[0m\u001b[0mdownload\u001b[0m\u001b[0;34m,\u001b[0m \u001b[0mindex_filepath\u001b[0m\u001b[0;34m=\u001b[0m\u001b[0mindex_filepath\u001b[0m\u001b[0;34m\u001b[0m\u001b[0;34m\u001b[0m\u001b[0m\n\u001b[0m\u001b[1;32m    826\u001b[0m             )\n\u001b[1;32m    827\u001b[0m         \u001b[0;32melse\u001b[0m\u001b[0;34m:\u001b[0m\u001b[0;34m\u001b[0m\u001b[0;34m\u001b[0m\u001b[0m\n",
      "\u001b[0;32m~/projects/resgen-python/resgen/__init__.py\u001b[0m in \u001b[0;36madd_dataset\u001b[0;34m(self, filepath, download, index_filepath)\u001b[0m\n\u001b[1;32m    633\u001b[0m     ):\n\u001b[1;32m    634\u001b[0m         \u001b[0;32mif\u001b[0m \u001b[0mdownload\u001b[0m\u001b[0;34m:\u001b[0m\u001b[0;34m\u001b[0m\u001b[0;34m\u001b[0m\u001b[0m\n\u001b[0;32m--> 635\u001b[0;31m             \u001b[0;32mreturn\u001b[0m \u001b[0mself\u001b[0m\u001b[0;34m.\u001b[0m\u001b[0madd_download_dataset\u001b[0m\u001b[0;34m(\u001b[0m\u001b[0mfilepath\u001b[0m\u001b[0;34m,\u001b[0m \u001b[0mindex_filepath\u001b[0m\u001b[0;34m)\u001b[0m\u001b[0;34m\u001b[0m\u001b[0;34m\u001b[0m\u001b[0m\n\u001b[0m\u001b[1;32m    636\u001b[0m         \u001b[0;32melse\u001b[0m\u001b[0;34m:\u001b[0m\u001b[0;34m\u001b[0m\u001b[0;34m\u001b[0m\u001b[0m\n\u001b[1;32m    637\u001b[0m             \u001b[0;32mreturn\u001b[0m \u001b[0mself\u001b[0m\u001b[0;34m.\u001b[0m\u001b[0madd_upload_dataset\u001b[0m\u001b[0;34m(\u001b[0m\u001b[0mfilepath\u001b[0m\u001b[0;34m,\u001b[0m \u001b[0mindex_filepath\u001b[0m\u001b[0;34m)\u001b[0m\u001b[0;34m\u001b[0m\u001b[0;34m\u001b[0m\u001b[0m\n",
      "\u001b[0;32m~/projects/resgen-python/resgen/__init__.py\u001b[0m in \u001b[0;36madd_download_dataset\u001b[0;34m(self, filepath, index_filepath)\u001b[0m\n\u001b[1;32m    575\u001b[0m         ):\n\u001b[1;32m    576\u001b[0m             \u001b[0;32mtry\u001b[0m\u001b[0;34m:\u001b[0m\u001b[0;34m\u001b[0m\u001b[0;34m\u001b[0m\u001b[0m\n\u001b[0;32m--> 577\u001b[0;31m                 \u001b[0mprogress\u001b[0m \u001b[0;34m=\u001b[0m \u001b[0mself\u001b[0m\u001b[0;34m.\u001b[0m\u001b[0mconn\u001b[0m\u001b[0;34m.\u001b[0m\u001b[0mdownload_progress\u001b[0m\u001b[0;34m(\u001b[0m\u001b[0mcontent\u001b[0m\u001b[0;34m[\u001b[0m\u001b[0;34m\"uuid\"\u001b[0m\u001b[0;34m]\u001b[0m\u001b[0;34m)\u001b[0m\u001b[0;34m\u001b[0m\u001b[0;34m\u001b[0m\u001b[0m\n\u001b[0m\u001b[1;32m    578\u001b[0m             \u001b[0;32mexcept\u001b[0m \u001b[0mUnknownConnectionException\u001b[0m\u001b[0;34m:\u001b[0m\u001b[0;34m\u001b[0m\u001b[0;34m\u001b[0m\u001b[0m\n\u001b[1;32m    579\u001b[0m                 \u001b[0;32mpass\u001b[0m\u001b[0;34m\u001b[0m\u001b[0;34m\u001b[0m\u001b[0m\n",
      "\u001b[0;32m~/projects/resgen-python/resgen/__init__.py\u001b[0m in \u001b[0;36mdownload_progress\u001b[0;34m(self, tileset_uuid)\u001b[0m\n\u001b[1;32m    412\u001b[0m         \u001b[0murl\u001b[0m \u001b[0;34m=\u001b[0m \u001b[0;34mf\"{self.host}/api/v1/download_progress/?d={tileset_uuid}\"\u001b[0m\u001b[0;34m\u001b[0m\u001b[0;34m\u001b[0m\u001b[0m\n\u001b[1;32m    413\u001b[0m \u001b[0;34m\u001b[0m\u001b[0m\n\u001b[0;32m--> 414\u001b[0;31m         \u001b[0mret\u001b[0m \u001b[0;34m=\u001b[0m \u001b[0mself\u001b[0m\u001b[0;34m.\u001b[0m\u001b[0mauthenticated_request\u001b[0m\u001b[0;34m(\u001b[0m\u001b[0mrequests\u001b[0m\u001b[0;34m.\u001b[0m\u001b[0mget\u001b[0m\u001b[0;34m,\u001b[0m \u001b[0murl\u001b[0m\u001b[0;34m)\u001b[0m\u001b[0;34m\u001b[0m\u001b[0;34m\u001b[0m\u001b[0m\n\u001b[0m\u001b[1;32m    415\u001b[0m \u001b[0;34m\u001b[0m\u001b[0m\n\u001b[1;32m    416\u001b[0m         \u001b[0;32mif\u001b[0m \u001b[0mret\u001b[0m\u001b[0;34m.\u001b[0m\u001b[0mstatus_code\u001b[0m \u001b[0;34m!=\u001b[0m \u001b[0;36m200\u001b[0m\u001b[0;34m:\u001b[0m\u001b[0;34m\u001b[0m\u001b[0;34m\u001b[0m\u001b[0m\n",
      "\u001b[0;32m~/projects/resgen-python/resgen/__init__.py\u001b[0m in \u001b[0;36mauthenticated_request\u001b[0;34m(self, func, *args, **kwargs)\u001b[0m\n\u001b[1;32m    224\u001b[0m \u001b[0;34m\u001b[0m\u001b[0m\n\u001b[1;32m    225\u001b[0m         return func(\n\u001b[0;32m--> 226\u001b[0;31m             \u001b[0;34m*\u001b[0m\u001b[0margs\u001b[0m\u001b[0;34m,\u001b[0m \u001b[0;34m**\u001b[0m\u001b[0;34m{\u001b[0m\u001b[0;34m**\u001b[0m\u001b[0mkwargs\u001b[0m\u001b[0;34m,\u001b[0m \u001b[0;34m\"headers\"\u001b[0m\u001b[0;34m:\u001b[0m \u001b[0;34m{\u001b[0m\u001b[0;34m\"Authorization\"\u001b[0m\u001b[0;34m:\u001b[0m \u001b[0;34m\"Bearer {}\"\u001b[0m\u001b[0;34m.\u001b[0m\u001b[0mformat\u001b[0m\u001b[0;34m(\u001b[0m\u001b[0mtoken\u001b[0m\u001b[0;34m)\u001b[0m\u001b[0;34m}\u001b[0m\u001b[0;34m}\u001b[0m\u001b[0;34m\u001b[0m\u001b[0;34m\u001b[0m\u001b[0m\n\u001b[0m\u001b[1;32m    227\u001b[0m         )\n\u001b[1;32m    228\u001b[0m \u001b[0;34m\u001b[0m\u001b[0m\n",
      "\u001b[0;32m~/miniconda3/envs/cenv4/lib/python3.7/site-packages/requests/api.py\u001b[0m in \u001b[0;36mget\u001b[0;34m(url, params, **kwargs)\u001b[0m\n\u001b[1;32m     73\u001b[0m \u001b[0;34m\u001b[0m\u001b[0m\n\u001b[1;32m     74\u001b[0m     \u001b[0mkwargs\u001b[0m\u001b[0;34m.\u001b[0m\u001b[0msetdefault\u001b[0m\u001b[0;34m(\u001b[0m\u001b[0;34m'allow_redirects'\u001b[0m\u001b[0;34m,\u001b[0m \u001b[0;32mTrue\u001b[0m\u001b[0;34m)\u001b[0m\u001b[0;34m\u001b[0m\u001b[0;34m\u001b[0m\u001b[0m\n\u001b[0;32m---> 75\u001b[0;31m     \u001b[0;32mreturn\u001b[0m \u001b[0mrequest\u001b[0m\u001b[0;34m(\u001b[0m\u001b[0;34m'get'\u001b[0m\u001b[0;34m,\u001b[0m \u001b[0murl\u001b[0m\u001b[0;34m,\u001b[0m \u001b[0mparams\u001b[0m\u001b[0;34m=\u001b[0m\u001b[0mparams\u001b[0m\u001b[0;34m,\u001b[0m \u001b[0;34m**\u001b[0m\u001b[0mkwargs\u001b[0m\u001b[0;34m)\u001b[0m\u001b[0;34m\u001b[0m\u001b[0;34m\u001b[0m\u001b[0m\n\u001b[0m\u001b[1;32m     76\u001b[0m \u001b[0;34m\u001b[0m\u001b[0m\n\u001b[1;32m     77\u001b[0m \u001b[0;34m\u001b[0m\u001b[0m\n",
      "\u001b[0;32m~/miniconda3/envs/cenv4/lib/python3.7/site-packages/requests/api.py\u001b[0m in \u001b[0;36mrequest\u001b[0;34m(method, url, **kwargs)\u001b[0m\n\u001b[1;32m     58\u001b[0m     \u001b[0;31m# cases, and look like a memory leak in others.\u001b[0m\u001b[0;34m\u001b[0m\u001b[0;34m\u001b[0m\u001b[0;34m\u001b[0m\u001b[0m\n\u001b[1;32m     59\u001b[0m     \u001b[0;32mwith\u001b[0m \u001b[0msessions\u001b[0m\u001b[0;34m.\u001b[0m\u001b[0mSession\u001b[0m\u001b[0;34m(\u001b[0m\u001b[0;34m)\u001b[0m \u001b[0;32mas\u001b[0m \u001b[0msession\u001b[0m\u001b[0;34m:\u001b[0m\u001b[0;34m\u001b[0m\u001b[0;34m\u001b[0m\u001b[0m\n\u001b[0;32m---> 60\u001b[0;31m         \u001b[0;32mreturn\u001b[0m \u001b[0msession\u001b[0m\u001b[0;34m.\u001b[0m\u001b[0mrequest\u001b[0m\u001b[0;34m(\u001b[0m\u001b[0mmethod\u001b[0m\u001b[0;34m=\u001b[0m\u001b[0mmethod\u001b[0m\u001b[0;34m,\u001b[0m \u001b[0murl\u001b[0m\u001b[0;34m=\u001b[0m\u001b[0murl\u001b[0m\u001b[0;34m,\u001b[0m \u001b[0;34m**\u001b[0m\u001b[0mkwargs\u001b[0m\u001b[0;34m)\u001b[0m\u001b[0;34m\u001b[0m\u001b[0;34m\u001b[0m\u001b[0m\n\u001b[0m\u001b[1;32m     61\u001b[0m \u001b[0;34m\u001b[0m\u001b[0m\n\u001b[1;32m     62\u001b[0m \u001b[0;34m\u001b[0m\u001b[0m\n",
      "\u001b[0;32m~/miniconda3/envs/cenv4/lib/python3.7/site-packages/requests/sessions.py\u001b[0m in \u001b[0;36mrequest\u001b[0;34m(self, method, url, params, data, headers, cookies, files, auth, timeout, allow_redirects, proxies, hooks, stream, verify, cert, json)\u001b[0m\n\u001b[1;32m    531\u001b[0m         }\n\u001b[1;32m    532\u001b[0m         \u001b[0msend_kwargs\u001b[0m\u001b[0;34m.\u001b[0m\u001b[0mupdate\u001b[0m\u001b[0;34m(\u001b[0m\u001b[0msettings\u001b[0m\u001b[0;34m)\u001b[0m\u001b[0;34m\u001b[0m\u001b[0;34m\u001b[0m\u001b[0m\n\u001b[0;32m--> 533\u001b[0;31m         \u001b[0mresp\u001b[0m \u001b[0;34m=\u001b[0m \u001b[0mself\u001b[0m\u001b[0;34m.\u001b[0m\u001b[0msend\u001b[0m\u001b[0;34m(\u001b[0m\u001b[0mprep\u001b[0m\u001b[0;34m,\u001b[0m \u001b[0;34m**\u001b[0m\u001b[0msend_kwargs\u001b[0m\u001b[0;34m)\u001b[0m\u001b[0;34m\u001b[0m\u001b[0;34m\u001b[0m\u001b[0m\n\u001b[0m\u001b[1;32m    534\u001b[0m \u001b[0;34m\u001b[0m\u001b[0m\n\u001b[1;32m    535\u001b[0m         \u001b[0;32mreturn\u001b[0m \u001b[0mresp\u001b[0m\u001b[0;34m\u001b[0m\u001b[0;34m\u001b[0m\u001b[0m\n",
      "\u001b[0;32m~/miniconda3/envs/cenv4/lib/python3.7/site-packages/requests/sessions.py\u001b[0m in \u001b[0;36msend\u001b[0;34m(self, request, **kwargs)\u001b[0m\n\u001b[1;32m    644\u001b[0m \u001b[0;34m\u001b[0m\u001b[0m\n\u001b[1;32m    645\u001b[0m         \u001b[0;31m# Send the request\u001b[0m\u001b[0;34m\u001b[0m\u001b[0;34m\u001b[0m\u001b[0;34m\u001b[0m\u001b[0m\n\u001b[0;32m--> 646\u001b[0;31m         \u001b[0mr\u001b[0m \u001b[0;34m=\u001b[0m \u001b[0madapter\u001b[0m\u001b[0;34m.\u001b[0m\u001b[0msend\u001b[0m\u001b[0;34m(\u001b[0m\u001b[0mrequest\u001b[0m\u001b[0;34m,\u001b[0m \u001b[0;34m**\u001b[0m\u001b[0mkwargs\u001b[0m\u001b[0;34m)\u001b[0m\u001b[0;34m\u001b[0m\u001b[0;34m\u001b[0m\u001b[0m\n\u001b[0m\u001b[1;32m    647\u001b[0m \u001b[0;34m\u001b[0m\u001b[0m\n\u001b[1;32m    648\u001b[0m         \u001b[0;31m# Total elapsed time of the request (approximately)\u001b[0m\u001b[0;34m\u001b[0m\u001b[0;34m\u001b[0m\u001b[0;34m\u001b[0m\u001b[0m\n",
      "\u001b[0;32m~/miniconda3/envs/cenv4/lib/python3.7/site-packages/requests/adapters.py\u001b[0m in \u001b[0;36msend\u001b[0;34m(self, request, stream, timeout, verify, cert, proxies)\u001b[0m\n\u001b[1;32m    447\u001b[0m                     \u001b[0mdecode_content\u001b[0m\u001b[0;34m=\u001b[0m\u001b[0;32mFalse\u001b[0m\u001b[0;34m,\u001b[0m\u001b[0;34m\u001b[0m\u001b[0;34m\u001b[0m\u001b[0m\n\u001b[1;32m    448\u001b[0m                     \u001b[0mretries\u001b[0m\u001b[0;34m=\u001b[0m\u001b[0mself\u001b[0m\u001b[0;34m.\u001b[0m\u001b[0mmax_retries\u001b[0m\u001b[0;34m,\u001b[0m\u001b[0;34m\u001b[0m\u001b[0;34m\u001b[0m\u001b[0m\n\u001b[0;32m--> 449\u001b[0;31m                     \u001b[0mtimeout\u001b[0m\u001b[0;34m=\u001b[0m\u001b[0mtimeout\u001b[0m\u001b[0;34m\u001b[0m\u001b[0;34m\u001b[0m\u001b[0m\n\u001b[0m\u001b[1;32m    450\u001b[0m                 )\n\u001b[1;32m    451\u001b[0m \u001b[0;34m\u001b[0m\u001b[0m\n",
      "\u001b[0;32m~/miniconda3/envs/cenv4/lib/python3.7/site-packages/urllib3/connectionpool.py\u001b[0m in \u001b[0;36murlopen\u001b[0;34m(self, method, url, body, headers, retries, redirect, assert_same_host, timeout, pool_timeout, release_conn, chunked, body_pos, **response_kw)\u001b[0m\n\u001b[1;32m    670\u001b[0m                 \u001b[0mbody\u001b[0m\u001b[0;34m=\u001b[0m\u001b[0mbody\u001b[0m\u001b[0;34m,\u001b[0m\u001b[0;34m\u001b[0m\u001b[0;34m\u001b[0m\u001b[0m\n\u001b[1;32m    671\u001b[0m                 \u001b[0mheaders\u001b[0m\u001b[0;34m=\u001b[0m\u001b[0mheaders\u001b[0m\u001b[0;34m,\u001b[0m\u001b[0;34m\u001b[0m\u001b[0;34m\u001b[0m\u001b[0m\n\u001b[0;32m--> 672\u001b[0;31m                 \u001b[0mchunked\u001b[0m\u001b[0;34m=\u001b[0m\u001b[0mchunked\u001b[0m\u001b[0;34m,\u001b[0m\u001b[0;34m\u001b[0m\u001b[0;34m\u001b[0m\u001b[0m\n\u001b[0m\u001b[1;32m    673\u001b[0m             )\n\u001b[1;32m    674\u001b[0m \u001b[0;34m\u001b[0m\u001b[0m\n",
      "\u001b[0;32m~/miniconda3/envs/cenv4/lib/python3.7/site-packages/urllib3/connectionpool.py\u001b[0m in \u001b[0;36m_make_request\u001b[0;34m(self, conn, method, url, timeout, chunked, **httplib_request_kw)\u001b[0m\n\u001b[1;32m    419\u001b[0m                     \u001b[0;31m# Python 3 (including for exceptions like SystemExit).\u001b[0m\u001b[0;34m\u001b[0m\u001b[0;34m\u001b[0m\u001b[0;34m\u001b[0m\u001b[0m\n\u001b[1;32m    420\u001b[0m                     \u001b[0;31m# Otherwise it looks like a bug in the code.\u001b[0m\u001b[0;34m\u001b[0m\u001b[0;34m\u001b[0m\u001b[0;34m\u001b[0m\u001b[0m\n\u001b[0;32m--> 421\u001b[0;31m                     \u001b[0msix\u001b[0m\u001b[0;34m.\u001b[0m\u001b[0mraise_from\u001b[0m\u001b[0;34m(\u001b[0m\u001b[0me\u001b[0m\u001b[0;34m,\u001b[0m \u001b[0;32mNone\u001b[0m\u001b[0;34m)\u001b[0m\u001b[0;34m\u001b[0m\u001b[0;34m\u001b[0m\u001b[0m\n\u001b[0m\u001b[1;32m    422\u001b[0m         \u001b[0;32mexcept\u001b[0m \u001b[0;34m(\u001b[0m\u001b[0mSocketTimeout\u001b[0m\u001b[0;34m,\u001b[0m \u001b[0mBaseSSLError\u001b[0m\u001b[0;34m,\u001b[0m \u001b[0mSocketError\u001b[0m\u001b[0;34m)\u001b[0m \u001b[0;32mas\u001b[0m \u001b[0me\u001b[0m\u001b[0;34m:\u001b[0m\u001b[0;34m\u001b[0m\u001b[0;34m\u001b[0m\u001b[0m\n\u001b[1;32m    423\u001b[0m             \u001b[0mself\u001b[0m\u001b[0;34m.\u001b[0m\u001b[0m_raise_timeout\u001b[0m\u001b[0;34m(\u001b[0m\u001b[0merr\u001b[0m\u001b[0;34m=\u001b[0m\u001b[0me\u001b[0m\u001b[0;34m,\u001b[0m \u001b[0murl\u001b[0m\u001b[0;34m=\u001b[0m\u001b[0murl\u001b[0m\u001b[0;34m,\u001b[0m \u001b[0mtimeout_value\u001b[0m\u001b[0;34m=\u001b[0m\u001b[0mread_timeout\u001b[0m\u001b[0;34m)\u001b[0m\u001b[0;34m\u001b[0m\u001b[0;34m\u001b[0m\u001b[0m\n",
      "\u001b[0;32m~/miniconda3/envs/cenv4/lib/python3.7/site-packages/urllib3/packages/six.py\u001b[0m in \u001b[0;36mraise_from\u001b[0;34m(value, from_value)\u001b[0m\n",
      "\u001b[0;32m~/miniconda3/envs/cenv4/lib/python3.7/site-packages/urllib3/connectionpool.py\u001b[0m in \u001b[0;36m_make_request\u001b[0;34m(self, conn, method, url, timeout, chunked, **httplib_request_kw)\u001b[0m\n\u001b[1;32m    414\u001b[0m                 \u001b[0;31m# Python 3\u001b[0m\u001b[0;34m\u001b[0m\u001b[0;34m\u001b[0m\u001b[0;34m\u001b[0m\u001b[0m\n\u001b[1;32m    415\u001b[0m                 \u001b[0;32mtry\u001b[0m\u001b[0;34m:\u001b[0m\u001b[0;34m\u001b[0m\u001b[0;34m\u001b[0m\u001b[0m\n\u001b[0;32m--> 416\u001b[0;31m                     \u001b[0mhttplib_response\u001b[0m \u001b[0;34m=\u001b[0m \u001b[0mconn\u001b[0m\u001b[0;34m.\u001b[0m\u001b[0mgetresponse\u001b[0m\u001b[0;34m(\u001b[0m\u001b[0;34m)\u001b[0m\u001b[0;34m\u001b[0m\u001b[0;34m\u001b[0m\u001b[0m\n\u001b[0m\u001b[1;32m    417\u001b[0m                 \u001b[0;32mexcept\u001b[0m \u001b[0mBaseException\u001b[0m \u001b[0;32mas\u001b[0m \u001b[0me\u001b[0m\u001b[0;34m:\u001b[0m\u001b[0;34m\u001b[0m\u001b[0;34m\u001b[0m\u001b[0m\n\u001b[1;32m    418\u001b[0m                     \u001b[0;31m# Remove the TypeError from the exception chain in\u001b[0m\u001b[0;34m\u001b[0m\u001b[0;34m\u001b[0m\u001b[0;34m\u001b[0m\u001b[0m\n",
      "\u001b[0;32m~/miniconda3/envs/cenv4/lib/python3.7/http/client.py\u001b[0m in \u001b[0;36mgetresponse\u001b[0;34m(self)\u001b[0m\n\u001b[1;32m   1342\u001b[0m         \u001b[0;32mtry\u001b[0m\u001b[0;34m:\u001b[0m\u001b[0;34m\u001b[0m\u001b[0;34m\u001b[0m\u001b[0m\n\u001b[1;32m   1343\u001b[0m             \u001b[0;32mtry\u001b[0m\u001b[0;34m:\u001b[0m\u001b[0;34m\u001b[0m\u001b[0;34m\u001b[0m\u001b[0m\n\u001b[0;32m-> 1344\u001b[0;31m                 \u001b[0mresponse\u001b[0m\u001b[0;34m.\u001b[0m\u001b[0mbegin\u001b[0m\u001b[0;34m(\u001b[0m\u001b[0;34m)\u001b[0m\u001b[0;34m\u001b[0m\u001b[0;34m\u001b[0m\u001b[0m\n\u001b[0m\u001b[1;32m   1345\u001b[0m             \u001b[0;32mexcept\u001b[0m \u001b[0mConnectionError\u001b[0m\u001b[0;34m:\u001b[0m\u001b[0;34m\u001b[0m\u001b[0;34m\u001b[0m\u001b[0m\n\u001b[1;32m   1346\u001b[0m                 \u001b[0mself\u001b[0m\u001b[0;34m.\u001b[0m\u001b[0mclose\u001b[0m\u001b[0;34m(\u001b[0m\u001b[0;34m)\u001b[0m\u001b[0;34m\u001b[0m\u001b[0;34m\u001b[0m\u001b[0m\n",
      "\u001b[0;32m~/miniconda3/envs/cenv4/lib/python3.7/http/client.py\u001b[0m in \u001b[0;36mbegin\u001b[0;34m(self)\u001b[0m\n\u001b[1;32m    304\u001b[0m         \u001b[0;31m# read until we get a non-100 response\u001b[0m\u001b[0;34m\u001b[0m\u001b[0;34m\u001b[0m\u001b[0;34m\u001b[0m\u001b[0m\n\u001b[1;32m    305\u001b[0m         \u001b[0;32mwhile\u001b[0m \u001b[0;32mTrue\u001b[0m\u001b[0;34m:\u001b[0m\u001b[0;34m\u001b[0m\u001b[0;34m\u001b[0m\u001b[0m\n\u001b[0;32m--> 306\u001b[0;31m             \u001b[0mversion\u001b[0m\u001b[0;34m,\u001b[0m \u001b[0mstatus\u001b[0m\u001b[0;34m,\u001b[0m \u001b[0mreason\u001b[0m \u001b[0;34m=\u001b[0m \u001b[0mself\u001b[0m\u001b[0;34m.\u001b[0m\u001b[0m_read_status\u001b[0m\u001b[0;34m(\u001b[0m\u001b[0;34m)\u001b[0m\u001b[0;34m\u001b[0m\u001b[0;34m\u001b[0m\u001b[0m\n\u001b[0m\u001b[1;32m    307\u001b[0m             \u001b[0;32mif\u001b[0m \u001b[0mstatus\u001b[0m \u001b[0;34m!=\u001b[0m \u001b[0mCONTINUE\u001b[0m\u001b[0;34m:\u001b[0m\u001b[0;34m\u001b[0m\u001b[0;34m\u001b[0m\u001b[0m\n\u001b[1;32m    308\u001b[0m                 \u001b[0;32mbreak\u001b[0m\u001b[0;34m\u001b[0m\u001b[0;34m\u001b[0m\u001b[0m\n",
      "\u001b[0;32m~/miniconda3/envs/cenv4/lib/python3.7/http/client.py\u001b[0m in \u001b[0;36m_read_status\u001b[0;34m(self)\u001b[0m\n\u001b[1;32m    265\u001b[0m \u001b[0;34m\u001b[0m\u001b[0m\n\u001b[1;32m    266\u001b[0m     \u001b[0;32mdef\u001b[0m \u001b[0m_read_status\u001b[0m\u001b[0;34m(\u001b[0m\u001b[0mself\u001b[0m\u001b[0;34m)\u001b[0m\u001b[0;34m:\u001b[0m\u001b[0;34m\u001b[0m\u001b[0;34m\u001b[0m\u001b[0m\n\u001b[0;32m--> 267\u001b[0;31m         \u001b[0mline\u001b[0m \u001b[0;34m=\u001b[0m \u001b[0mstr\u001b[0m\u001b[0;34m(\u001b[0m\u001b[0mself\u001b[0m\u001b[0;34m.\u001b[0m\u001b[0mfp\u001b[0m\u001b[0;34m.\u001b[0m\u001b[0mreadline\u001b[0m\u001b[0;34m(\u001b[0m\u001b[0m_MAXLINE\u001b[0m \u001b[0;34m+\u001b[0m \u001b[0;36m1\u001b[0m\u001b[0;34m)\u001b[0m\u001b[0;34m,\u001b[0m \u001b[0;34m\"iso-8859-1\"\u001b[0m\u001b[0;34m)\u001b[0m\u001b[0;34m\u001b[0m\u001b[0;34m\u001b[0m\u001b[0m\n\u001b[0m\u001b[1;32m    268\u001b[0m         \u001b[0;32mif\u001b[0m \u001b[0mlen\u001b[0m\u001b[0;34m(\u001b[0m\u001b[0mline\u001b[0m\u001b[0;34m)\u001b[0m \u001b[0;34m>\u001b[0m \u001b[0m_MAXLINE\u001b[0m\u001b[0;34m:\u001b[0m\u001b[0;34m\u001b[0m\u001b[0;34m\u001b[0m\u001b[0m\n\u001b[1;32m    269\u001b[0m             \u001b[0;32mraise\u001b[0m \u001b[0mLineTooLong\u001b[0m\u001b[0;34m(\u001b[0m\u001b[0;34m\"status line\"\u001b[0m\u001b[0;34m)\u001b[0m\u001b[0;34m\u001b[0m\u001b[0;34m\u001b[0m\u001b[0m\n",
      "\u001b[0;32m~/miniconda3/envs/cenv4/lib/python3.7/socket.py\u001b[0m in \u001b[0;36mreadinto\u001b[0;34m(self, b)\u001b[0m\n\u001b[1;32m    587\u001b[0m         \u001b[0;32mwhile\u001b[0m \u001b[0;32mTrue\u001b[0m\u001b[0;34m:\u001b[0m\u001b[0;34m\u001b[0m\u001b[0;34m\u001b[0m\u001b[0m\n\u001b[1;32m    588\u001b[0m             \u001b[0;32mtry\u001b[0m\u001b[0;34m:\u001b[0m\u001b[0;34m\u001b[0m\u001b[0;34m\u001b[0m\u001b[0m\n\u001b[0;32m--> 589\u001b[0;31m                 \u001b[0;32mreturn\u001b[0m \u001b[0mself\u001b[0m\u001b[0;34m.\u001b[0m\u001b[0m_sock\u001b[0m\u001b[0;34m.\u001b[0m\u001b[0mrecv_into\u001b[0m\u001b[0;34m(\u001b[0m\u001b[0mb\u001b[0m\u001b[0;34m)\u001b[0m\u001b[0;34m\u001b[0m\u001b[0;34m\u001b[0m\u001b[0m\n\u001b[0m\u001b[1;32m    590\u001b[0m             \u001b[0;32mexcept\u001b[0m \u001b[0mtimeout\u001b[0m\u001b[0;34m:\u001b[0m\u001b[0;34m\u001b[0m\u001b[0;34m\u001b[0m\u001b[0m\n\u001b[1;32m    591\u001b[0m                 \u001b[0mself\u001b[0m\u001b[0;34m.\u001b[0m\u001b[0m_timeout_occurred\u001b[0m \u001b[0;34m=\u001b[0m \u001b[0;32mTrue\u001b[0m\u001b[0;34m\u001b[0m\u001b[0;34m\u001b[0m\u001b[0m\n",
      "\u001b[0;32m~/miniconda3/envs/cenv4/lib/python3.7/site-packages/urllib3/contrib/pyopenssl.py\u001b[0m in \u001b[0;36mrecv_into\u001b[0;34m(self, *args, **kwargs)\u001b[0m\n\u001b[1;32m    311\u001b[0m     \u001b[0;32mdef\u001b[0m \u001b[0mrecv_into\u001b[0m\u001b[0;34m(\u001b[0m\u001b[0mself\u001b[0m\u001b[0;34m,\u001b[0m \u001b[0;34m*\u001b[0m\u001b[0margs\u001b[0m\u001b[0;34m,\u001b[0m \u001b[0;34m**\u001b[0m\u001b[0mkwargs\u001b[0m\u001b[0;34m)\u001b[0m\u001b[0;34m:\u001b[0m\u001b[0;34m\u001b[0m\u001b[0;34m\u001b[0m\u001b[0m\n\u001b[1;32m    312\u001b[0m         \u001b[0;32mtry\u001b[0m\u001b[0;34m:\u001b[0m\u001b[0;34m\u001b[0m\u001b[0;34m\u001b[0m\u001b[0m\n\u001b[0;32m--> 313\u001b[0;31m             \u001b[0;32mreturn\u001b[0m \u001b[0mself\u001b[0m\u001b[0;34m.\u001b[0m\u001b[0mconnection\u001b[0m\u001b[0;34m.\u001b[0m\u001b[0mrecv_into\u001b[0m\u001b[0;34m(\u001b[0m\u001b[0;34m*\u001b[0m\u001b[0margs\u001b[0m\u001b[0;34m,\u001b[0m \u001b[0;34m**\u001b[0m\u001b[0mkwargs\u001b[0m\u001b[0;34m)\u001b[0m\u001b[0;34m\u001b[0m\u001b[0;34m\u001b[0m\u001b[0m\n\u001b[0m\u001b[1;32m    314\u001b[0m         \u001b[0;32mexcept\u001b[0m \u001b[0mOpenSSL\u001b[0m\u001b[0;34m.\u001b[0m\u001b[0mSSL\u001b[0m\u001b[0;34m.\u001b[0m\u001b[0mSysCallError\u001b[0m \u001b[0;32mas\u001b[0m \u001b[0me\u001b[0m\u001b[0;34m:\u001b[0m\u001b[0;34m\u001b[0m\u001b[0;34m\u001b[0m\u001b[0m\n\u001b[1;32m    315\u001b[0m             \u001b[0;32mif\u001b[0m \u001b[0mself\u001b[0m\u001b[0;34m.\u001b[0m\u001b[0msuppress_ragged_eofs\u001b[0m \u001b[0;32mand\u001b[0m \u001b[0me\u001b[0m\u001b[0;34m.\u001b[0m\u001b[0margs\u001b[0m \u001b[0;34m==\u001b[0m \u001b[0;34m(\u001b[0m\u001b[0;34m-\u001b[0m\u001b[0;36m1\u001b[0m\u001b[0;34m,\u001b[0m \u001b[0;34m\"Unexpected EOF\"\u001b[0m\u001b[0;34m)\u001b[0m\u001b[0;34m:\u001b[0m\u001b[0;34m\u001b[0m\u001b[0;34m\u001b[0m\u001b[0m\n",
      "\u001b[0;32m~/miniconda3/envs/cenv4/lib/python3.7/site-packages/OpenSSL/SSL.py\u001b[0m in \u001b[0;36mrecv_into\u001b[0;34m(self, buffer, nbytes, flags)\u001b[0m\n\u001b[1;32m   1837\u001b[0m             \u001b[0mresult\u001b[0m \u001b[0;34m=\u001b[0m \u001b[0m_lib\u001b[0m\u001b[0;34m.\u001b[0m\u001b[0mSSL_peek\u001b[0m\u001b[0;34m(\u001b[0m\u001b[0mself\u001b[0m\u001b[0;34m.\u001b[0m\u001b[0m_ssl\u001b[0m\u001b[0;34m,\u001b[0m \u001b[0mbuf\u001b[0m\u001b[0;34m,\u001b[0m \u001b[0mnbytes\u001b[0m\u001b[0;34m)\u001b[0m\u001b[0;34m\u001b[0m\u001b[0;34m\u001b[0m\u001b[0m\n\u001b[1;32m   1838\u001b[0m         \u001b[0;32melse\u001b[0m\u001b[0;34m:\u001b[0m\u001b[0;34m\u001b[0m\u001b[0;34m\u001b[0m\u001b[0m\n\u001b[0;32m-> 1839\u001b[0;31m             \u001b[0mresult\u001b[0m \u001b[0;34m=\u001b[0m \u001b[0m_lib\u001b[0m\u001b[0;34m.\u001b[0m\u001b[0mSSL_read\u001b[0m\u001b[0;34m(\u001b[0m\u001b[0mself\u001b[0m\u001b[0;34m.\u001b[0m\u001b[0m_ssl\u001b[0m\u001b[0;34m,\u001b[0m \u001b[0mbuf\u001b[0m\u001b[0;34m,\u001b[0m \u001b[0mnbytes\u001b[0m\u001b[0;34m)\u001b[0m\u001b[0;34m\u001b[0m\u001b[0;34m\u001b[0m\u001b[0m\n\u001b[0m\u001b[1;32m   1840\u001b[0m         \u001b[0mself\u001b[0m\u001b[0;34m.\u001b[0m\u001b[0m_raise_ssl_error\u001b[0m\u001b[0;34m(\u001b[0m\u001b[0mself\u001b[0m\u001b[0;34m.\u001b[0m\u001b[0m_ssl\u001b[0m\u001b[0;34m,\u001b[0m \u001b[0mresult\u001b[0m\u001b[0;34m)\u001b[0m\u001b[0;34m\u001b[0m\u001b[0;34m\u001b[0m\u001b[0m\n\u001b[1;32m   1841\u001b[0m \u001b[0;34m\u001b[0m\u001b[0m\n",
      "\u001b[0;31mKeyboardInterrupt\u001b[0m: "
     ]
    }
   ],
   "source": [
    "for assembly in ['hg19', 'hg38']:\n",
    "    for states in [15]:\n",
    "        for filename in [\n",
    "            f'https://resources.altius.org/~areynolds/public/epilogos-for-pete/{assembly}/{assembly}.{states}.all.KL.epilogos.multires.mv5',\n",
    "            f'https://resources.altius.org/~areynolds/public/epilogos-for-pete/{assembly}/{assembly}.{states}.all.KLs.epilogos.multires.mv5',\n",
    "            f'https://resources.altius.org/~areynolds/public/epilogos-for-pete/{assembly}/{assembly}.{states}.all.KLss.epilogos.multires.mv5',\n",
    "        ]:\n",
    "            project.sync_dataset(filename, datatype='epilogos', filetype='multivec', assembly=assembly, description='')\n",
    "        \n",
    "        filename = f'https://resources.altius.org/~areynolds/public/epilogos-for-pete/{assembly}/{assembly}.{states}.all.chromatinStates.multires.mv5'\n",
    "        project.sync_dataset(filename, datatype='multivec', filetype='multivec', assembly=assembly, description='')"
   ]
  },
  {
   "cell_type": "code",
   "execution_count": null,
   "metadata": {},
   "outputs": [],
   "source": [
    "for assembly in ['mm10', 'hg38']:\n",
    "    for states in [15]:\n",
    "        for filename in [\n",
    "            f'https://resources.altius.org/~areynolds/public/epilogos-for-pete/{assembly}/{assembly}.{states}.all.KL.epilogos.multires.mv5',\n",
    "            f'https://resources.altius.org/~areynolds/public/epilogos-for-pete/{assembly}/{assembly}.{states}.all.KLs.epilogos.multires.mv5',\n",
    "            f'https://resources.altius.org/~areynolds/public/epilogos-for-pete/{assembly}/{assembly}.{states}.all.KLss.epilogos.multires.mv5',\n",
    "        ]:\n",
    "            project.sync_dataset(filename, datatype='epilogos', filetype='multivec', assembly=assembly, description='')\n",
    "        \n",
    "        filename = f'https://resources.altius.org/~areynolds/public/epilogos-for-pete/{assembly}/{assembly}.25.all.chromatinStates.multires.mv5'\n",
    "        project.sync_dataset(filename, datatype='multivec', filetype='multivec', assembly=assembly, description='')"
   ]
  },
  {
   "cell_type": "code",
   "execution_count": 7,
   "metadata": {},
   "outputs": [],
   "source": [
    "stateColorPalettes = {\n",
    "  'hg19' : {\n",
    "    15 : {\n",
    "      1:['Active TSS','#ff0000'],\n",
    "      2:['Flanking Active TSS','#ff4500'],\n",
    "      3:['Transcription at gene 5\\' and 3\\'','#32cd32'],\n",
    "      4:['Strong transcription','#008000'],\n",
    "      5:['Weak transcription','#006400'],\n",
    "      6:['Genic enhancers','#c2e105'],\n",
    "      7:['Enhancers','#ffff00'],\n",
    "      8:['ZNF genes + repeats','#66cdaa'],\n",
    "      9:['Heterochromatin','#8a91d0'],\n",
    "      10:['Bivalent/Poised TSS','#cd5c5c'],\n",
    "      11:['Flanking Bivalent TSS/Enh','#e9967a'],\n",
    "      12:['Bivalent Enhancer','#bdb76b'],\n",
    "      13:['Repressed PolyComb','#808080'],\n",
    "      14:['Weak Repressed PolyComb','#c0c0c0'],\n",
    "      15:['Quiescent/Low','#ffffff']\n",
    "    },\n",
    "    18 : {\n",
    "      1:['Active TSS','#ff0000'],\n",
    "      2:['Flanking TSS','#ff4500'],\n",
    "      3:['Flanking TSS Upstream','#ff4500'],\n",
    "      4:['Flanking TSS Downstream','#ff4500'],\n",
    "      5:['Strong transcription','#008000'],\n",
    "      6:['Weak transcription','#006400'],\n",
    "      7:['Genic enhancer 1','#c2e105'],\n",
    "      8:['Genic enhancer 2','#c2e105'],\n",
    "      9:['Active Enhancer 1','#ffc34d'],\n",
    "      10:['Active Enhancer 2','#ffc34d'],\n",
    "      11:['Weak Enhancer','#ffff00'],\n",
    "      12:['ZNF genes + repeats','#66cdaa'],\n",
    "      13:['Heterochromatin','#8a91d0'],\n",
    "      14:['Bivalent/Poised TSS','#cd5c5c'],\n",
    "      15:['Bivalent Enhancer','#bdb76b'],\n",
    "      16:['Repressed PolyComb','#808080'],\n",
    "      17:['Weak Repressed PolyComb','#c0c0c0'],\n",
    "      18:['Quiescent/Low','#ffffff']\n",
    "    },\n",
    "    25 : {\n",
    "      1:['Active TSS','#ff0000'],\n",
    "      2:['Promoter Upstream TSS','#ff4500'],\n",
    "      3:['Promoter Downstream TSS with DNase','#ff4500'],\n",
    "      4:['Promoter Downstream TSS','#ff4500'],\n",
    "      5:['Transcription 5\\'','#008000'],\n",
    "      6:['Transcription','#008000'],\n",
    "      7:['Transcription 3\\'','#008000'],\n",
    "      8:['Weak transcription','#009600'],\n",
    "      9:['Transcription Regulatory','#c2e105'],\n",
    "      10:['Transcription 5\\' Enhancer','#c2e105'],\n",
    "      11:['Transcription 3\\' Enhancer','#c2e105'],\n",
    "      12:['Transcription Weak Enhancer','#c2e105'],\n",
    "      13:['Active Enhancer 1','#ffc34d'],\n",
    "      14:['Active Enhancer 2','#ffc34d'],\n",
    "      15:['Active Enhancer Flank','#ffc34d'],\n",
    "      16:['Weak Enhancer 1','#ffff00'],\n",
    "      17:['Weak Enhancer 2','#ffff00'],\n",
    "      18:['Enhancer Acetylation Only','#ffff00'],\n",
    "      19:['DNase only','#ffff66'],\n",
    "      20:['ZNF genes + repeats','#66cdaa'],\n",
    "      21:['Heterochromatin','#8a91d0'],\n",
    "      22:['Poised Promoter','#e6b8b7'],\n",
    "      23:['Bivalent Promoter','#7030a0'],\n",
    "      24:['Repressed PolyComb','#808080'],\n",
    "      25:['Quiescent/Low','#ffffff']\n",
    "    }\n",
    "  },\n",
    "  'hg38':{\n",
    "    15 : {\n",
    "      1:['Active TSS','#ff0000'],\n",
    "      2:['Flanking Active TSS','#ff4500'],\n",
    "      3:['Transcription at gene 5\\' and 3\\'','#32cd32'],\n",
    "      4:['Strong transcription','#008000'],\n",
    "      5:['Weak transcription','#006400'],\n",
    "      6:['Genic enhancers','#c2e105'],\n",
    "      7:['Enhancers','#ffff00'],\n",
    "      8:['ZNF genes + repeats','#66cdaa'],\n",
    "      9:['Heterochromatin','#8a91d0'],\n",
    "      10:['Bivalent/Poised TSS','#cd5c5c'],\n",
    "      11:['Flanking Bivalent TSS/Enh','#e9967a'],\n",
    "      12:['Bivalent Enhancer','#bdb76b'],\n",
    "      13:['Repressed PolyComb','#808080'],\n",
    "      14:['Weak Repressed PolyComb','#c0c0c0'],\n",
    "      15:['Quiescent/Low','#ffffff']\n",
    "    },\n",
    "    18 : {\n",
    "      1:['Active TSS','#ff0000'],\n",
    "      2:['Flanking TSS','#ff4500'],\n",
    "      3:['Flanking TSS Upstream','#ff4500'],\n",
    "      4:['Flanking TSS Downstream','#ff4500'],\n",
    "      5:['Strong transcription','#008000'],\n",
    "      6:['Weak transcription','#006400'],\n",
    "      7:['Genic enhancer 1','#c2e105'],\n",
    "      8:['Genic enhancer 2','#c2e105'],\n",
    "      9:['Active Enhancer 1','#ffc34d'],\n",
    "      10:['Active Enhancer 2','#ffc34d'],\n",
    "      11:['Weak Enhancer','#ffff00'],\n",
    "      12:['ZNF genes + repeats','#66cdaa'],\n",
    "      13:['Heterochromatin','#8a91d0'],\n",
    "      14:['Bivalent/Poised TSS','#cd5c5c'],\n",
    "      15:['Bivalent Enhancer','#bdb76b'],\n",
    "      16:['Repressed PolyComb','#808080'],\n",
    "      17:['Weak Repressed PolyComb','#c0c0c0'],\n",
    "      18:['Quiescent/Low','#ffffff']\n",
    "    },\n",
    "    25 : {\n",
    "      1:['Active TSS','#ff0000'],\n",
    "      2:['Promoter Upstream TSS','#ff4500'],\n",
    "      3:['Promoter Downstream TSS with DNase','#ff4500'],\n",
    "      4:['Promoter Downstream TSS','#ff4500'],\n",
    "      5:['Transcription 5\\'','#008000'],\n",
    "      6:['Transcription','#008000'],\n",
    "      7:['Transcription 3\\'','#008000'],\n",
    "      8:['Weak transcription','#009600'],\n",
    "      9:['Transcription Regulatory','#c2e105'],\n",
    "      10:['Transcription 5\\' Enhancer','#c2e105'],\n",
    "      11:['Transcription 3\\' Enhancer','#c2e105'],\n",
    "      12:['Transcription Weak Enhancer','#c2e105'],\n",
    "      13:['Active Enhancer 1','#ffc34d'],\n",
    "      14:['Active Enhancer 2','#ffc34d'],\n",
    "      15:['Active Enhancer Flank','#ffc34d'],\n",
    "      16:['Weak Enhancer 1','#ffff00'],\n",
    "      17:['Weak Enhancer 2','#ffff00'],\n",
    "      18:['Enhancer Acetylation Only','#ffff00'],\n",
    "      19:['DNase only','#ffff66'],\n",
    "      20:['ZNF genes + repeats','#66cdaa'],\n",
    "      21:['Heterochromatin','#8a91d0'],\n",
    "      22:['Poised Promoter','#e6b8b7'],\n",
    "      23:['Bivalent Promoter','#7030a0'],\n",
    "      24:['Repressed PolyComb','#808080'],\n",
    "      25:['Quiescent/Low','#ffffff']\n",
    "    }\n",
    "  },\n",
    "  'mm10':{\n",
    "    15 : {\n",
    "      1:['Promoter - Active','#0e6f37'], \n",
    "      2:['Promoter - Weak/Inactive','#c7e4c0'], \n",
    "      3:['Promoter - Bivalent','#cdcdcd'], \n",
    "      4:['Promoter - Flanking','#41ac5e'], \n",
    "      5:['Enhancer - Strong, TSS-distal','#f3eb1a'], \n",
    "      6:['Enhancer - Strong, TSS-proximal','#f3eb1a'], \n",
    "      7:['Enhancer - Weak, TSS-distal','#faf8c8'], \n",
    "      8:['Enhancer - Poised, TSS-distal','#808080'], \n",
    "      9:['Enhancer - Poised, TSS-proximal','#808080'], \n",
    "      10:['Transcription - Strong','#0454a3'], \n",
    "      11:['Transcription - Permissive','#deecf7'], \n",
    "      12:['Transcription - Initiation','#4290cf'], \n",
    "      13:['Heterochromatin - Polycomb','#f48c8f'], \n",
    "      14:['Heterochromatin - H3K9me3','#fde2e5'], \n",
    "      15:['No signal','#ffffff']\n",
    "    }\n",
    "  },\n",
    "};"
   ]
  },
  {
   "cell_type": "code",
   "execution_count": 41,
   "metadata": {},
   "outputs": [
    {
     "data": {
      "text/plain": [
       "[{'name': 'Active TSS', 'color': '#ff0000'},\n",
       " {'name': 'Flanking Active TSS', 'color': '#ff4500'},\n",
       " {'name': \"Transcription at gene 5' and 3'\", 'color': '#32cd32'},\n",
       " {'name': 'Strong transcription', 'color': '#008000'},\n",
       " {'name': 'Weak transcription', 'color': '#006400'},\n",
       " {'name': 'Genic enhancers', 'color': '#c2e105'},\n",
       " {'name': 'Enhancers', 'color': '#ffff00'},\n",
       " {'name': 'ZNF genes + repeats', 'color': '#66cdaa'},\n",
       " {'name': 'Heterochromatin', 'color': '#8a91d0'},\n",
       " {'name': 'Bivalent/Poised TSS', 'color': '#cd5c5c'},\n",
       " {'name': 'Flanking Bivalent TSS/Enh', 'color': '#e9967a'},\n",
       " {'name': 'Bivalent Enhancer', 'color': '#bdb76b'},\n",
       " {'name': 'Repressed PolyComb', 'color': '#808080'},\n",
       " {'name': 'Weak Repressed PolyComb', 'color': '#c0c0c0'},\n",
       " {'name': 'Quiescent/Low', 'color': '#ffffff'}]"
      ]
     },
     "execution_count": 41,
     "metadata": {},
     "output_type": "execute_result"
    }
   ],
   "source": []
  },
  {
   "cell_type": "code",
   "execution_count": 111,
   "metadata": {},
   "outputs": [],
   "source": [
    "def update_file(filename, assembly, states):\n",
    "    with h5py.File(filename, 'r+') as f:\n",
    "        row_infos = [{\"name\": s[0], \"color\": s[1]} for s in stateColorPalettes[\"hg38\"][15].values()]\n",
    "        category_infos = [{\"name\": \"undefined\", \"color\": \"#ffffff\"}] + row_infos\n",
    "        \n",
    "        if 'row_infos' in f['info']:\n",
    "            del f['info']['row_infos']\n",
    "        if 'category_infos' in f['info']:\n",
    "            del f['info']['category_infos']\n",
    "\n",
    "        f['info'].create_dataset('category_infos', data=json.dumps(category_infos))\n",
    "        f['info'].create_dataset('row_infos', data=json.dumps(row_infos))"
   ]
  },
  {
   "cell_type": "code",
   "execution_count": 129,
   "metadata": {},
   "outputs": [
    {
     "name": "stdout",
     "output_type": "stream",
     "text": [
      "hg38.15.all.chromatinStates.multires.mv5  489048109 / 489048109.0  (100.00%)"
     ]
    },
    {
     "data": {
      "text/plain": [
       "MmMcDDAr: hg38.15.all.chromatinStates.multires.mv5"
      ]
     },
     "execution_count": 129,
     "metadata": {},
     "output_type": "execute_result"
    }
   ],
   "source": [
    "import h5py\n",
    "\n",
    "assembly=\"hg38\"\n",
    "states=15\n",
    "\n",
    "filename=f'{assembly}.{states}.all.chromatinStates.multires.mv5'\n",
    "\n",
    "update_file(filename, assembly, states)\n",
    "\n",
    "project.sync_dataset(filename, assembly=assembly, filetype='multivec', datatype='multivec')"
   ]
  },
  {
   "cell_type": "markdown",
   "metadata": {},
   "source": [
    "## HiGlass server"
   ]
  },
  {
   "cell_type": "code",
   "execution_count": 124,
   "metadata": {},
   "outputs": [
    {
     "data": {
      "text/plain": [
       "{'resolutions': [13107200,\n",
       "  6553600,\n",
       "  3276800,\n",
       "  1638400,\n",
       "  819200,\n",
       "  409600,\n",
       "  204800,\n",
       "  102400,\n",
       "  51200,\n",
       "  25600,\n",
       "  12800,\n",
       "  6400,\n",
       "  3200,\n",
       "  1600,\n",
       "  800,\n",
       "  400,\n",
       "  200],\n",
       " 'min_pos': [0],\n",
       " 'max_pos': [2730871774],\n",
       " 'tile_size': 256,\n",
       " 'shape': [256, 66],\n",
       " 'category_infos': [{'name': 'undefined', 'color': '#ffffff'},\n",
       "  {'name': 'Active TSS', 'color': '#ff0000'},\n",
       "  {'name': 'Flanking Active TSS', 'color': '#ff4500'},\n",
       "  {'name': \"Transcription at gene 5' and 3'\", 'color': '#32cd32'},\n",
       "  {'name': 'Strong transcription', 'color': '#008000'},\n",
       "  {'name': 'Weak transcription', 'color': '#006400'},\n",
       "  {'name': 'Genic enhancers', 'color': '#c2e105'},\n",
       "  {'name': 'Enhancers', 'color': '#ffff00'},\n",
       "  {'name': 'ZNF genes + repeats', 'color': '#66cdaa'},\n",
       "  {'name': 'Heterochromatin', 'color': '#8a91d0'},\n",
       "  {'name': 'Bivalent/Poised TSS', 'color': '#cd5c5c'},\n",
       "  {'name': 'Flanking Bivalent TSS/Enh', 'color': '#e9967a'},\n",
       "  {'name': 'Bivalent Enhancer', 'color': '#bdb76b'},\n",
       "  {'name': 'Repressed PolyComb', 'color': '#808080'},\n",
       "  {'name': 'Weak Repressed PolyComb', 'color': '#c0c0c0'},\n",
       "  {'name': 'Quiescent/Low', 'color': '#ffffff'}],\n",
       " 'row_infos': ['e11.5_forebrain | Embryonic day 11.5 forebrain',\n",
       "  'e12.5_forebrain | Embryonic day 12.5 forebrain',\n",
       "  'e13.5_forebrain | Embryonic day 13.5 forebrain',\n",
       "  'e14.5_forebrain | Embryonic day 14.5 forebrain',\n",
       "  'e15.5_forebrain | Embryonic day 15.5 forebrain',\n",
       "  'e16.5_forebrain | Embryonic day 16.5 forebrain',\n",
       "  'P0_forebrain | Day-of-birth forebrain',\n",
       "  'e11.5_midbrain | Embryonic day 11.5 midbrain',\n",
       "  'e12.5_midbrain | Embryonic day 12.5 midbrain',\n",
       "  'e13.5_midbrain | Embryonic day 13.5 midbrain',\n",
       "  'e14.5_midbrain | Embryonic day 14.5 midbrain',\n",
       "  'e15.5_midbrain | Embryonic day 15.5 midbrain',\n",
       "  'e16.5_midbrain | Embryonic day 16.5 midbrain',\n",
       "  'P0_midbrain | Day-of-birth midbrain',\n",
       "  'e11.5_hindbrain | Embryonic day 11.5 hindbrain',\n",
       "  'e12.5_hindbrain | Embryonic day 12.5 hindbrain',\n",
       "  'e13.5_hindbrain | Embryonic day 13.5 hindbrain',\n",
       "  'e14.5_hindbrain | Embryonic day 14.5 hindbrain',\n",
       "  'e15.5_hindbrain | Embryonic day 15.5 hindbrain',\n",
       "  'e16.5_hindbrain | Embryonic day 16.5 hindbrain',\n",
       "  'P0_hindbrain | Day-of-birth hindbrain',\n",
       "  'e11.5_neural-tube | Embryonic day 11.5 neural tube',\n",
       "  'e12.5_neural-tube | Embryonic day 12.5 neural tube',\n",
       "  'e13.5_neural-tube | Embryonic day 13.5 neural tube',\n",
       "  'e14.5_neural-tube | Embryonic day 14.5 neural tube',\n",
       "  'e15.5_neural-tube | Embryonic day 15.5 neural tube',\n",
       "  'e11.5_heart | Embryonic day 11.5 heart',\n",
       "  'e12.5_heart | Embryonic day 12.5 heart',\n",
       "  'e13.5_heart | Embryonic day 13.5 heart',\n",
       "  'e14.5_heart | Embryonic day 14.5 heart',\n",
       "  'e15.5_heart | Embryonic day 15.5 heart',\n",
       "  'e16.5_heart | Embryonic day 16.5 heart',\n",
       "  'P0_heart | Day-of-birth heart',\n",
       "  'e14.5_lung | Embryonic day 14.5 lung',\n",
       "  'e15.5_lung | Embryonic day 15.5 lung',\n",
       "  'e16.5_lung | Embryonic day 16.5 lung',\n",
       "  'P0_lung | Day-of-birth lung',\n",
       "  'e14.5_kidney | Embryonic day 14.5 kidney',\n",
       "  'e15.5_kidney | Embryonic day 15.5 kidney',\n",
       "  'e16.5_kidney | Embryonic day 16.5 kidney',\n",
       "  'P0_kidney | Day-of-birth kidney',\n",
       "  'e11.5_liver | Embryonic day 11.5 liver',\n",
       "  'e12.5_liver | Embryonic day 12.5 liver',\n",
       "  'e13.5_liver | Embryonic day 13.5 liver',\n",
       "  'e14.5_liver | Embryonic day 14.5 liver',\n",
       "  'e15.5_liver | Embryonic day 15.5 liver',\n",
       "  'e16.5_liver | Embryonic day 16.5 liver',\n",
       "  'P0_liver | Day-of-birth liver',\n",
       "  'e14.5_intestine | Embryonic day 14.5 intestine',\n",
       "  'e15.5_intestine | Embryonic day 15.5 intestine',\n",
       "  'e16.5_intestine | Embryonic day 16.5 intestine',\n",
       "  'P0_intestine | Day-of-birth intestine',\n",
       "  'e14.5_stomach | Embryonic day 14.5 stomach',\n",
       "  'e15.5_stomach | Embryonic day 15.5 stomach',\n",
       "  'e16.5_stomach | Embryonic day 16.5 stomach',\n",
       "  'P0_stomach | Day-of-birth stomach',\n",
       "  'e11.5_limb | Embryonic day 11.5 limb',\n",
       "  'e12.5_limb | Embryonic day 12.5 limb',\n",
       "  'e13.5_limb | Embryonic day 13.5 limb',\n",
       "  'e14.5_limb | Embryonic day 14.5 limb',\n",
       "  'e15.5_limb | Embryonic day 15.5 limb',\n",
       "  'e11.5_facial-prominence | Embryonic day 11.5 facial prominence',\n",
       "  'e12.5_facial-prominence | Embryonic day 12.5 facial prominence',\n",
       "  'e13.5_facial-prominence | Embryonic day 13.5 facial prominence',\n",
       "  'e14.5_facial-prominence | Embryonic day 14.5 facial prominence',\n",
       "  'e15.5_facial-prominence | Embryonic day 15.5 facial prominence']}"
      ]
     },
     "execution_count": 124,
     "metadata": {},
     "output_type": "execute_result"
    }
   ],
   "source": [
    "assembly='mm10'\n",
    "states=15\n",
    "\n",
    "# filename=f'{assembly}.{states}.all.KL.epilogos.multires.mv5'\n",
    "# filename='all.KL.bed.multires.mv5'\n",
    "filename=f'{assembly}.{states}.all.chromatinStates.multires.mv5'\n",
    "import higlass.tilesets as hgti\n",
    "\n",
    "import clodius.tiles.multivec as ctm\n",
    "\n",
    "tileset = hgti.Tileset(\n",
    "    uuid=\"x\",\n",
    "    tileset_info=lambda: ctm.tileset_info(filename),\n",
    "    tiles=lambda tids: ctm.tiles(filename, tids),\n",
    "    datatype=\"multivec\",\n",
    ")\n",
    "\n",
    "tileset.tileset_info()"
   ]
  },
  {
   "cell_type": "code",
   "execution_count": 125,
   "metadata": {},
   "outputs": [],
   "source": [
    "import higlass\n",
    "from higlass.server import Server\n",
    "\n",
    "server = Server(\n",
    "    [tileset], host=\"localhost\", port=52759, fuse=True, log_file='/tmp/log'\n",
    ")\n",
    "server.start()"
   ]
  },
  {
   "cell_type": "code",
   "execution_count": 122,
   "metadata": {
    "scrolled": true
   },
   "outputs": [
    {
     "data": {
      "application/vnd.jupyter.widget-view+json": {
       "model_id": "1556d644e7654e31a011770f12c1f9e4",
       "version_major": 2,
       "version_minor": 0
      },
      "text/plain": [
       "HiGlassDisplay(viewconf={'editable': True, 'views': [{'uid': 'L3lrkaASRr2BaiiJMe8_RA', 'tracks': {'top': [{'ty…"
      ]
     },
     "metadata": {},
     "output_type": "display_data"
    }
   ],
   "source": [
    "from higlass.client import Track, View\n",
    "\n",
    "display, server, viewconf = higlass.display([View([Track('horizontal-multivec', tileset=tileset)])])\n",
    "display"
   ]
  },
  {
   "cell_type": "code",
   "execution_count": 104,
   "metadata": {},
   "outputs": [],
   "source": [
    "server.stop()"
   ]
  },
  {
   "cell_type": "code",
   "execution_count": 103,
   "metadata": {},
   "outputs": [
    {
     "data": {
      "text/plain": [
       "'{\"editable\": true, \"views\": [{\"uid\": \"I4P_LzfAS0y1_CqHJv29NA\", \"tracks\": {\"top\": [{\"type\": \"horizontal-multivec\", \"options\": {}, \"tilesetUid\": \"x\", \"uid\": \"VeleXzIBSvCaJ_lZqyJ_zA\", \"server\": \"http://localhost:57775/api/v1\"}], \"center\": [], \"left\": [], \"right\": [], \"bottom\": []}, \"layout\": {\"w\": 12, \"h\": 6, \"x\": 0, \"y\": 0}}], \"trackSourceServers\": [\"http://higlass.io/api/v1\"], \"locationLocks\": {\"locksByViewUid\": {}, \"locksDict\": {}}, \"valueScaleLocks\": {\"locksByViewUid\": {}, \"locksDict\": {}}, \"zoomLocks\": {\"locksByViewUid\": {}, \"locksDict\": {}}, \"exportViewUrl\": \"http://higlass.io/api/v1/viewconfs\"}'"
      ]
     },
     "execution_count": 103,
     "metadata": {},
     "output_type": "execute_result"
    }
   ],
   "source": [
    "json.dumps(viewconf.to_dict())"
   ]
  },
  {
   "cell_type": "code",
   "execution_count": null,
   "metadata": {},
   "outputs": [],
   "source": []
  }
 ],
 "metadata": {
  "kernelspec": {
   "display_name": "Python 3",
   "language": "python",
   "name": "python3"
  },
  "language_info": {
   "codemirror_mode": {
    "name": "ipython",
    "version": 3
   },
   "file_extension": ".py",
   "mimetype": "text/x-python",
   "name": "python",
   "nbconvert_exporter": "python",
   "pygments_lexer": "ipython3",
   "version": "3.7.6"
  }
 },
 "nbformat": 4,
 "nbformat_minor": 4
}
